{
 "cells": [
  {
   "cell_type": "markdown",
   "id": "b5166877",
   "metadata": {},
   "source": [
    "# Dataframes\n",
    "\n",
    "Dataframes are mutable two-dimensional dat structures with the axes labeled where:\n",
    "* each row represents a different observation\n",
    "* each column represents a different variable\n",
    "\n",
    "In Python, to define a dataframe, we first need to import the pandas module."
   ]
  },
  {
   "cell_type": "code",
   "execution_count": null,
   "id": "0a40aa61",
   "metadata": {},
   "outputs": [],
   "source": [
    "import pandas as pd"
   ]
  },
  {
   "cell_type": "markdown",
   "id": "948743b4",
   "metadata": {},
   "source": [
    "Next, if we want a dataframe with 5 rows and 2 columns, we can do it from a [dictionary](https://www.w3schools.com/python/python_dictionaries.asp), a [list](https://www.w3schools.com/python/python_lists.asp) of lists, a list of dictionaries, etc.\n",
    "\n",
    "We are going to create a 5-rows, 2-columns dataframe from a dictionary.\n",
    "\n",
    "To do this, we first create a dictionary where the keys will be the names of the columns and the values will be lists, with as many elements as the number of rows we want.\n",
    "\n",
    "Finally, we convert that dictionary to dataframe with pandas' `DataFrame()` function:"
   ]
  },
  {
   "cell_type": "code",
   "execution_count": null,
   "id": "38bfbb04",
   "metadata": {},
   "outputs": [],
   "source": [
    "# Example dataframe\n",
    "data = {\n",
    "    \"x\":[1, 2, 3, 4, 5], \n",
    "    \"y\":[6, 7, 8, 9, 10]\n",
    "}"
   ]
  },
  {
   "cell_type": "code",
   "execution_count": null,
   "id": "372905d1",
   "metadata": {},
   "outputs": [],
   "source": [
    "data['x']"
   ]
  },
  {
   "cell_type": "code",
   "execution_count": null,
   "id": "ec9665d5",
   "metadata": {},
   "outputs": [],
   "source": [
    "df = pd.DataFrame(data)\n",
    "print(df)\n",
    "# df"
   ]
  },
  {
   "cell_type": "markdown",
   "id": "867d91a2",
   "metadata": {},
   "source": [
    "As we said, we have created a dataframe with 5 rows and two columns, called x and y respectively.\n",
    "\n",
    "**Observation**: As a result of `print()`, we have not only obtained the 5 rows and 2 columns, but there is an additional column of 5 numbers ordered vertically from 0 to 4. It is simply the name of each row, which by default is the index of each row. The 0 indicates the first row; the 1, the second; and so on."
   ]
  },
  {
   "cell_type": "markdown",
   "id": "5fdef15f",
   "metadata": {},
   "source": [
    "## Import a csv file to dataframe"
   ]
  },
  {
   "cell_type": "code",
   "execution_count": null,
   "id": "f3e47f9f",
   "metadata": {},
   "outputs": [],
   "source": [
    "# use contextual help to show all the parameters inside read_csv\n",
    "df = pd.read_csv('/Users/riasnazary/_jupyterlab/eniac-data/orderlines.csv', sep=',')\n",
    "df"
   ]
  },
  {
   "cell_type": "markdown",
   "id": "6234c63c",
   "metadata": {},
   "source": [
    "## Dataframe dimensions\n",
    "\n",
    "With the `.shape` [method](https://www.w3schools.com/python/gloss_python_object_methods.asp) we can calculate the dimensions (number of rows and columns) of the dataframe."
   ]
  },
  {
   "cell_type": "code",
   "execution_count": null,
   "id": "2dee47f8",
   "metadata": {},
   "outputs": [],
   "source": [
    "df.shape"
   ]
  },
  {
   "cell_type": "markdown",
   "id": "1b32a272",
   "metadata": {},
   "source": [
    "As a result we obtain a [tuple](https://www.w3schools.com/python/python_tuples.asp) where the first element is the number of rows, which in our case is 293983, while the second element is the number of columns, which in our example was 7."
   ]
  },
  {
   "cell_type": "code",
   "execution_count": null,
   "id": "6cc7ceae",
   "metadata": {},
   "outputs": [],
   "source": [
    "nrows = df.shape[0]\n",
    "ncols = df.shape[1]\n",
    "print(\"The number of rows is\", nrows)\n",
    "print(\"The number of columns is\", ncols)"
   ]
  },
  {
   "cell_type": "markdown",
   "id": "8e7a959c",
   "metadata": {},
   "source": [
    "With the `.size` method we calculate the total number of values that the dataframe has (number of rows per number of columns)"
   ]
  },
  {
   "cell_type": "code",
   "execution_count": null,
   "id": "a741d7bb",
   "metadata": {},
   "outputs": [],
   "source": [
    "df.size"
   ]
  },
  {
   "cell_type": "code",
   "execution_count": null,
   "id": "6c420ae2",
   "metadata": {},
   "outputs": [],
   "source": [
    "# check if that's true\n",
    "df.shape[0] * df.shape[1] == df.size"
   ]
  },
  {
   "cell_type": "markdown",
   "id": "2ae0bd0c",
   "metadata": {},
   "source": [
    "With the `.ndim` method we calculate the number of dimensions that the dataframe has. This will always be 2, as it consists of rows and columns."
   ]
  },
  {
   "cell_type": "code",
   "execution_count": null,
   "id": "840cbd2f",
   "metadata": {},
   "outputs": [],
   "source": [
    "df.ndim"
   ]
  },
  {
   "cell_type": "markdown",
   "id": "43821633",
   "metadata": {},
   "source": [
    "## Dataframes exploration\n",
    "\n",
    "The `.head()` method is used to display the first rows of the dataframe. By default, the first 5 will be shown"
   ]
  },
  {
   "cell_type": "code",
   "execution_count": null,
   "id": "b6ce561a",
   "metadata": {},
   "outputs": [],
   "source": [
    "df.head()"
   ]
  },
  {
   "cell_type": "code",
   "execution_count": null,
   "id": "7e100ff7",
   "metadata": {},
   "outputs": [],
   "source": [
    "df.head(9)"
   ]
  },
  {
   "cell_type": "code",
   "execution_count": null,
   "id": "fe606544",
   "metadata": {},
   "outputs": [],
   "source": [
    "df.tail()"
   ]
  },
  {
   "cell_type": "code",
   "execution_count": null,
   "id": "6968166d",
   "metadata": {},
   "outputs": [],
   "source": [
    "df.info()"
   ]
  },
  {
   "cell_type": "code",
   "execution_count": null,
   "id": "72b74bfd",
   "metadata": {},
   "outputs": [],
   "source": [
    "df.describe()"
   ]
  },
  {
   "cell_type": "code",
   "execution_count": null,
   "id": "60d19e64",
   "metadata": {},
   "outputs": [],
   "source": [
    "df.nunique()"
   ]
  },
  {
   "cell_type": "code",
   "execution_count": null,
   "id": "6a825ee3",
   "metadata": {},
   "outputs": [],
   "source": [
    "df['sku'].unique().tolist()[:10]"
   ]
  },
  {
   "cell_type": "code",
   "execution_count": null,
   "id": "540ac7b7",
   "metadata": {},
   "outputs": [],
   "source": [
    "df.isna().sum()"
   ]
  },
  {
   "cell_type": "code",
   "execution_count": null,
   "id": "1bfe5939",
   "metadata": {},
   "outputs": [],
   "source": [
    "df.duplicated().sum() # parameters keep=False\n",
    "# df.drop_duplicates()"
   ]
  },
  {
   "cell_type": "code",
   "execution_count": null,
   "id": "ef25f8d8",
   "metadata": {},
   "outputs": [],
   "source": [
    "df.nsmallest(5, 'product_quantity')"
   ]
  },
  {
   "cell_type": "code",
   "execution_count": null,
   "id": "af6f75b3",
   "metadata": {},
   "outputs": [],
   "source": [
    "df.nlargest(5, 'product_quantity')"
   ]
  },
  {
   "cell_type": "markdown",
   "id": "5049ec77",
   "metadata": {},
   "source": [
    "## Columns\n",
    "\n",
    "Given a dataframe, we can select a particular column in several ways:\n",
    "\n",
    "* Indicating the name of the column between square brackets, []\n",
    "* With the `.columns[]` method\n",
    "* With the `.loc[]` method (by name or tag)\n",
    "* With the `.iloc[]` method (by position)"
   ]
  },
  {
   "cell_type": "markdown",
   "id": "54ec6afe",
   "metadata": {},
   "source": [
    "How to select 1 column"
   ]
  },
  {
   "cell_type": "code",
   "execution_count": null,
   "id": "ad5155a6",
   "metadata": {},
   "outputs": [],
   "source": [
    "# select the column by name\n",
    "df['id_order']"
   ]
  },
  {
   "cell_type": "code",
   "execution_count": null,
   "id": "97581d16",
   "metadata": {},
   "outputs": [],
   "source": [
    "# Select the column sku with the method .columns[]\n",
    "print(df[df.columns[1]])"
   ]
  },
  {
   "cell_type": "code",
   "execution_count": null,
   "id": "ce17081d",
   "metadata": {},
   "outputs": [],
   "source": [
    "# method .loc[]\n",
    "print(df.loc[:, 'id_order'])"
   ]
  },
  {
   "cell_type": "code",
   "execution_count": null,
   "id": "3fb4b3e3",
   "metadata": {},
   "outputs": [],
   "source": [
    "# method .iloc[]\n",
    "print(df.iloc[:, 0])"
   ]
  },
  {
   "cell_type": "code",
   "execution_count": null,
   "id": "ab2916bd",
   "metadata": {},
   "outputs": [],
   "source": [
    "# method .filter()\n",
    "df.filter(items=['id_order'])"
   ]
  },
  {
   "cell_type": "markdown",
   "id": "fc1ef52d",
   "metadata": {},
   "source": [
    "Select multiple columns\n",
    "\n",
    "If we wanted to select more than one column, we could do it with all the options listed above, with slight modifications in some cases:"
   ]
  },
  {
   "cell_type": "code",
   "execution_count": null,
   "id": "954d99cb",
   "metadata": {},
   "outputs": [],
   "source": [
    "# with a list\n",
    "df[['id_order','sku']]"
   ]
  },
  {
   "cell_type": "code",
   "execution_count": null,
   "id": "b571d8a4",
   "metadata": {},
   "outputs": [],
   "source": [
    "# .columns()\n",
    "df[df.columns[[1,4]]]"
   ]
  },
  {
   "cell_type": "code",
   "execution_count": null,
   "id": "ba574542",
   "metadata": {},
   "outputs": [],
   "source": [
    "df[df.columns[0:3]]"
   ]
  },
  {
   "cell_type": "code",
   "execution_count": null,
   "id": "da3db5be",
   "metadata": {},
   "outputs": [],
   "source": [
    "# .loc()\n",
    "df.loc[:, [\"id_order\", \"sku\"]]"
   ]
  },
  {
   "cell_type": "code",
   "execution_count": null,
   "id": "d9065270",
   "metadata": {},
   "outputs": [],
   "source": [
    "# .loc()\n",
    "df.loc[:, \"id_order\":\"sku\"]"
   ]
  },
  {
   "cell_type": "code",
   "execution_count": null,
   "id": "1f7e2dc6",
   "metadata": {},
   "outputs": [],
   "source": [
    "# .iloc\n",
    "df.iloc[:, [0, 1]]"
   ]
  },
  {
   "cell_type": "code",
   "execution_count": null,
   "id": "039d1697",
   "metadata": {},
   "outputs": [],
   "source": [
    "df.iloc[:, 0:2]"
   ]
  },
  {
   "cell_type": "markdown",
   "id": "12aa5815",
   "metadata": {},
   "source": [
    "## Rows\n",
    "\n",
    "Given a dataframe, we can select a particular row in several ways:\n",
    "\n",
    "* With the `.loc[]` method (by name or tag)\n",
    "* With the `.iloc[]` method (by position)"
   ]
  },
  {
   "cell_type": "code",
   "execution_count": null,
   "id": "007efe9e",
   "metadata": {},
   "outputs": [],
   "source": [
    "# set the id to rows_id"
   ]
  },
  {
   "cell_type": "code",
   "execution_count": null,
   "id": "9f814bd8",
   "metadata": {},
   "outputs": [],
   "source": [
    "df.set_index('id', inplace=True)\n",
    "# inplate = True would be equal than df = df.set_index('id')"
   ]
  },
  {
   "cell_type": "code",
   "execution_count": null,
   "id": "26dc49f9",
   "metadata": {},
   "outputs": [],
   "source": [
    "df.head(2)"
   ]
  },
  {
   "cell_type": "code",
   "execution_count": null,
   "id": "93962554",
   "metadata": {},
   "outputs": [],
   "source": [
    "# select the first observation with the .loc() method\n",
    "df.loc[1119110]"
   ]
  },
  {
   "cell_type": "code",
   "execution_count": null,
   "id": "76ba2f25",
   "metadata": {},
   "outputs": [],
   "source": [
    "# select the last observation with the method .iloc[]\n",
    "df.iloc[-1]\n",
    "# df.tail(1)"
   ]
  },
  {
   "cell_type": "code",
   "execution_count": null,
   "id": "342bde25",
   "metadata": {},
   "outputs": [],
   "source": [
    "df.head()"
   ]
  },
  {
   "cell_type": "code",
   "execution_count": null,
   "id": "7e757cf1",
   "metadata": {},
   "outputs": [],
   "source": [
    "df.loc[[1119111,1119112,1119113]]"
   ]
  },
  {
   "cell_type": "code",
   "execution_count": null,
   "id": "623e0609",
   "metadata": {},
   "outputs": [],
   "source": [
    "df.loc[1119111:1119113]"
   ]
  },
  {
   "cell_type": "code",
   "execution_count": null,
   "id": "9101e626",
   "metadata": {},
   "outputs": [],
   "source": [
    "df.reset_index(inplace=True)"
   ]
  },
  {
   "cell_type": "markdown",
   "id": "be9b7709",
   "metadata": {},
   "source": [
    "## Drop and Filter data"
   ]
  },
  {
   "cell_type": "code",
   "execution_count": null,
   "id": "e4931750",
   "metadata": {},
   "outputs": [],
   "source": [
    "df.head()"
   ]
  },
  {
   "cell_type": "code",
   "execution_count": null,
   "id": "b13debfd",
   "metadata": {},
   "outputs": [],
   "source": [
    "df.columns"
   ]
  },
  {
   "cell_type": "markdown",
   "id": "d5fb6ef6",
   "metadata": {},
   "source": [
    "The `.drop()` method allows us to delete the rows or columns that we indicate.\n",
    "\n",
    "**Attention!** Again, if we want to directly apply the changes to the original dataframe, we need to indicate `inplace = True`"
   ]
  },
  {
   "cell_type": "code",
   "execution_count": null,
   "id": "b39f8049",
   "metadata": {},
   "outputs": [],
   "source": [
    "df.drop(['unit_price'], axis=1)"
   ]
  },
  {
   "cell_type": "markdown",
   "id": "84daa4a8",
   "metadata": {},
   "source": [
    "How to filter information on a dataframe."
   ]
  },
  {
   "cell_type": "code",
   "execution_count": null,
   "id": "f1eca9f9",
   "metadata": {},
   "outputs": [],
   "source": [
    "# products sold in quantities larger than 100\n",
    "df[df['product_quantity'] > 100]"
   ]
  },
  {
   "cell_type": "markdown",
   "id": "c37297a5",
   "metadata": {},
   "source": [
    "The `.query()` method can be useful for this purpose, but it works only when the column values do not contain blank spaces. You can use any **Python Comparison Operators** you want inside the query method (find more information on this [link](https://www.w3schools.com/python/python_operators.asp))."
   ]
  },
  {
   "cell_type": "code",
   "execution_count": null,
   "id": "a79b4cd9",
   "metadata": {},
   "outputs": [],
   "source": [
    "df.query('product_quantity > 100')"
   ]
  },
  {
   "cell_type": "markdown",
   "id": "1e1e5c7d",
   "metadata": {},
   "source": [
    "Another way to filter information is to look for exact matches. You can do that with the `isin()` method:"
   ]
  },
  {
   "cell_type": "code",
   "execution_count": null,
   "id": "d56918ef",
   "metadata": {},
   "outputs": [],
   "source": [
    "# find out rows in a column that match the elements in a list\n",
    "df[df['sku'].isin(['ADN0039','THU0029','APP1190'])]"
   ]
  },
  {
   "cell_type": "markdown",
   "id": "a724d33a",
   "metadata": {},
   "source": [
    "## `.copy()` method\n",
    "\n",
    "If you want to create a new dataframe out of a chunk of the original dataframe, it is quite common to run into this problem:"
   ]
  },
  {
   "cell_type": "code",
   "execution_count": null,
   "id": "60182275",
   "metadata": {},
   "outputs": [],
   "source": [
    "sample = df.iloc[:3,:]\n",
    "sample"
   ]
  },
  {
   "cell_type": "code",
   "execution_count": null,
   "id": "364c1482",
   "metadata": {},
   "outputs": [],
   "source": [
    "sample.iloc[0,4]"
   ]
  },
  {
   "cell_type": "code",
   "execution_count": null,
   "id": "ce42f828",
   "metadata": {},
   "outputs": [],
   "source": [
    "sample.iloc[0,4] = 'NEW001'"
   ]
  },
  {
   "cell_type": "code",
   "execution_count": null,
   "id": "04be35cb",
   "metadata": {},
   "outputs": [],
   "source": [
    "sample"
   ]
  },
  {
   "cell_type": "code",
   "execution_count": null,
   "id": "0a5ac583",
   "metadata": {},
   "outputs": [],
   "source": [
    "df.head()"
   ]
  },
  {
   "cell_type": "markdown",
   "id": "c0ee6877",
   "metadata": {},
   "source": [
    "As you can see, we modified the object `sample` but, the data frame `df` has also been modified! We can avoid this using the method `.copy()`"
   ]
  },
  {
   "cell_type": "code",
   "execution_count": null,
   "id": "f79ce477",
   "metadata": {},
   "outputs": [],
   "source": [
    "df = pd.read_csv('../data/eniac/orderlines.csv')\n",
    "sample = df.iloc[:3,:].copy()\n",
    "sample.iloc[0,4] = 'NEW001'\n",
    "sample"
   ]
  },
  {
   "cell_type": "code",
   "execution_count": null,
   "id": "623ac44f",
   "metadata": {},
   "outputs": [],
   "source": [
    "df.head(3)"
   ]
  },
  {
   "cell_type": "markdown",
   "id": "7bc6a67b",
   "metadata": {},
   "source": [
    "As you can see, now it has not been modified."
   ]
  },
  {
   "cell_type": "markdown",
   "id": "b3291195",
   "metadata": {},
   "source": [
    "# CHALLENGES"
   ]
  },
  {
   "cell_type": "markdown",
   "id": "f5a028df",
   "metadata": {},
   "source": [
    "1. The product with the `sku` JBL0104 has been sold for prices at different points in time. How many different prices has it had?\n",
    "\n",
    "Tip: combine any pandas filtering method with the method `.nunique()`."
   ]
  },
  {
   "cell_type": "code",
   "execution_count": 195,
   "id": "8d39f3d5-3837-46ff-ab4e-3dbc54333afa",
   "metadata": {},
   "outputs": [
    {
     "data": {
      "text/plain": [
       "7"
      ]
     },
     "execution_count": 195,
     "metadata": {},
     "output_type": "execute_result"
    }
   ],
   "source": [
    "df[df.sku == 'JBL0104'].unit_price.nunique()"
   ]
  },
  {
   "cell_type": "markdown",
   "id": "3c75afa1",
   "metadata": {},
   "source": [
    "2. List all the different items that have been sold in the order with an `id_order` of `385921`."
   ]
  },
  {
   "cell_type": "code",
   "execution_count": 197,
   "id": "a57cbdca",
   "metadata": {},
   "outputs": [
    {
     "data": {
      "text/html": [
       "<div>\n",
       "<style scoped>\n",
       "    .dataframe tbody tr th:only-of-type {\n",
       "        vertical-align: middle;\n",
       "    }\n",
       "\n",
       "    .dataframe tbody tr th {\n",
       "        vertical-align: top;\n",
       "    }\n",
       "\n",
       "    .dataframe thead th {\n",
       "        text-align: right;\n",
       "    }\n",
       "</style>\n",
       "<table border=\"1\" class=\"dataframe\">\n",
       "  <thead>\n",
       "    <tr style=\"text-align: right;\">\n",
       "      <th></th>\n",
       "      <th>id_order</th>\n",
       "      <th>id</th>\n",
       "      <th>product_id</th>\n",
       "      <th>product_quantity</th>\n",
       "      <th>sku</th>\n",
       "      <th>unit_price</th>\n",
       "      <th>date</th>\n",
       "    </tr>\n",
       "  </thead>\n",
       "  <tbody>\n",
       "    <tr>\n",
       "      <th>100355</th>\n",
       "      <td>385921</td>\n",
       "      <td>1310787</td>\n",
       "      <td>0</td>\n",
       "      <td>1</td>\n",
       "      <td>APP2431</td>\n",
       "      <td>2.114.59</td>\n",
       "      <td>2017-08-03 17:49:00</td>\n",
       "    </tr>\n",
       "    <tr>\n",
       "      <th>100359</th>\n",
       "      <td>385921</td>\n",
       "      <td>1310794</td>\n",
       "      <td>0</td>\n",
       "      <td>1</td>\n",
       "      <td>APP2348</td>\n",
       "      <td>3.805.59</td>\n",
       "      <td>2017-08-03 17:54:39</td>\n",
       "    </tr>\n",
       "    <tr>\n",
       "      <th>100360</th>\n",
       "      <td>385921</td>\n",
       "      <td>1310796</td>\n",
       "      <td>0</td>\n",
       "      <td>1</td>\n",
       "      <td>APP2131</td>\n",
       "      <td>992.81</td>\n",
       "      <td>2017-08-03 17:57:23</td>\n",
       "    </tr>\n",
       "    <tr>\n",
       "      <th>100364</th>\n",
       "      <td>385921</td>\n",
       "      <td>1310800</td>\n",
       "      <td>0</td>\n",
       "      <td>1</td>\n",
       "      <td>APP1630</td>\n",
       "      <td>1.020.33</td>\n",
       "      <td>2017-08-03 18:04:06</td>\n",
       "    </tr>\n",
       "    <tr>\n",
       "      <th>100365</th>\n",
       "      <td>385921</td>\n",
       "      <td>1310801</td>\n",
       "      <td>0</td>\n",
       "      <td>1</td>\n",
       "      <td>APP1735</td>\n",
       "      <td>469.00</td>\n",
       "      <td>2017-08-03 18:04:24</td>\n",
       "    </tr>\n",
       "    <tr>\n",
       "      <th>100366</th>\n",
       "      <td>385921</td>\n",
       "      <td>1310802</td>\n",
       "      <td>0</td>\n",
       "      <td>1</td>\n",
       "      <td>APP1216</td>\n",
       "      <td>139.99</td>\n",
       "      <td>2017-08-03 18:05:04</td>\n",
       "    </tr>\n",
       "    <tr>\n",
       "      <th>100368</th>\n",
       "      <td>385921</td>\n",
       "      <td>1310804</td>\n",
       "      <td>0</td>\n",
       "      <td>1</td>\n",
       "      <td>APP2092</td>\n",
       "      <td>149.00</td>\n",
       "      <td>2017-08-03 18:06:07</td>\n",
       "    </tr>\n",
       "    <tr>\n",
       "      <th>100371</th>\n",
       "      <td>385921</td>\n",
       "      <td>1310807</td>\n",
       "      <td>0</td>\n",
       "      <td>1</td>\n",
       "      <td>APP1215</td>\n",
       "      <td>110.99</td>\n",
       "      <td>2017-08-03 18:07:18</td>\n",
       "    </tr>\n",
       "    <tr>\n",
       "      <th>100374</th>\n",
       "      <td>385921</td>\n",
       "      <td>1310810</td>\n",
       "      <td>0</td>\n",
       "      <td>1</td>\n",
       "      <td>ELA0017</td>\n",
       "      <td>32.99</td>\n",
       "      <td>2017-08-03 18:08:25</td>\n",
       "    </tr>\n",
       "    <tr>\n",
       "      <th>100379</th>\n",
       "      <td>385921</td>\n",
       "      <td>1310815</td>\n",
       "      <td>0</td>\n",
       "      <td>2</td>\n",
       "      <td>MIN0010</td>\n",
       "      <td>69.99</td>\n",
       "      <td>2017-08-03 18:10:24</td>\n",
       "    </tr>\n",
       "    <tr>\n",
       "      <th>100384</th>\n",
       "      <td>385921</td>\n",
       "      <td>1310821</td>\n",
       "      <td>0</td>\n",
       "      <td>1</td>\n",
       "      <td>ELA0039</td>\n",
       "      <td>9.99</td>\n",
       "      <td>2017-08-03 18:12:12</td>\n",
       "    </tr>\n",
       "    <tr>\n",
       "      <th>100386</th>\n",
       "      <td>385921</td>\n",
       "      <td>1310823</td>\n",
       "      <td>0</td>\n",
       "      <td>1</td>\n",
       "      <td>BEA0046</td>\n",
       "      <td>99.90</td>\n",
       "      <td>2017-08-03 18:12:59</td>\n",
       "    </tr>\n",
       "    <tr>\n",
       "      <th>100387</th>\n",
       "      <td>385921</td>\n",
       "      <td>1310825</td>\n",
       "      <td>0</td>\n",
       "      <td>1</td>\n",
       "      <td>BOS0034</td>\n",
       "      <td>249.99</td>\n",
       "      <td>2017-08-03 18:13:19</td>\n",
       "    </tr>\n",
       "    <tr>\n",
       "      <th>100390</th>\n",
       "      <td>385921</td>\n",
       "      <td>1310828</td>\n",
       "      <td>0</td>\n",
       "      <td>1</td>\n",
       "      <td>BEA0071</td>\n",
       "      <td>269.99</td>\n",
       "      <td>2017-08-03 18:14:24</td>\n",
       "    </tr>\n",
       "    <tr>\n",
       "      <th>100391</th>\n",
       "      <td>385921</td>\n",
       "      <td>1310830</td>\n",
       "      <td>0</td>\n",
       "      <td>2</td>\n",
       "      <td>ELA0029</td>\n",
       "      <td>29.99</td>\n",
       "      <td>2017-08-03 18:14:50</td>\n",
       "    </tr>\n",
       "    <tr>\n",
       "      <th>100392</th>\n",
       "      <td>385921</td>\n",
       "      <td>1310832</td>\n",
       "      <td>0</td>\n",
       "      <td>1</td>\n",
       "      <td>APP2161</td>\n",
       "      <td>179.00</td>\n",
       "      <td>2017-08-03 18:17:26</td>\n",
       "    </tr>\n",
       "    <tr>\n",
       "      <th>100399</th>\n",
       "      <td>385921</td>\n",
       "      <td>1310846</td>\n",
       "      <td>0</td>\n",
       "      <td>1</td>\n",
       "      <td>HOC0008</td>\n",
       "      <td>29.99</td>\n",
       "      <td>2017-08-03 18:32:41</td>\n",
       "    </tr>\n",
       "    <tr>\n",
       "      <th>100400</th>\n",
       "      <td>385921</td>\n",
       "      <td>1310847</td>\n",
       "      <td>0</td>\n",
       "      <td>1</td>\n",
       "      <td>NOM0026</td>\n",
       "      <td>39.99</td>\n",
       "      <td>2017-08-03 18:33:21</td>\n",
       "    </tr>\n",
       "    <tr>\n",
       "      <th>100401</th>\n",
       "      <td>385921</td>\n",
       "      <td>1310848</td>\n",
       "      <td>0</td>\n",
       "      <td>1</td>\n",
       "      <td>NOM0014</td>\n",
       "      <td>59.99</td>\n",
       "      <td>2017-08-03 18:34:43</td>\n",
       "    </tr>\n",
       "  </tbody>\n",
       "</table>\n",
       "</div>"
      ],
      "text/plain": [
       "        id_order       id  product_id  product_quantity      sku unit_price  \\\n",
       "100355    385921  1310787           0                 1  APP2431   2.114.59   \n",
       "100359    385921  1310794           0                 1  APP2348   3.805.59   \n",
       "100360    385921  1310796           0                 1  APP2131     992.81   \n",
       "100364    385921  1310800           0                 1  APP1630   1.020.33   \n",
       "100365    385921  1310801           0                 1  APP1735     469.00   \n",
       "100366    385921  1310802           0                 1  APP1216     139.99   \n",
       "100368    385921  1310804           0                 1  APP2092     149.00   \n",
       "100371    385921  1310807           0                 1  APP1215     110.99   \n",
       "100374    385921  1310810           0                 1  ELA0017      32.99   \n",
       "100379    385921  1310815           0                 2  MIN0010      69.99   \n",
       "100384    385921  1310821           0                 1  ELA0039       9.99   \n",
       "100386    385921  1310823           0                 1  BEA0046      99.90   \n",
       "100387    385921  1310825           0                 1  BOS0034     249.99   \n",
       "100390    385921  1310828           0                 1  BEA0071     269.99   \n",
       "100391    385921  1310830           0                 2  ELA0029      29.99   \n",
       "100392    385921  1310832           0                 1  APP2161     179.00   \n",
       "100399    385921  1310846           0                 1  HOC0008      29.99   \n",
       "100400    385921  1310847           0                 1  NOM0026      39.99   \n",
       "100401    385921  1310848           0                 1  NOM0014      59.99   \n",
       "\n",
       "                       date  \n",
       "100355  2017-08-03 17:49:00  \n",
       "100359  2017-08-03 17:54:39  \n",
       "100360  2017-08-03 17:57:23  \n",
       "100364  2017-08-03 18:04:06  \n",
       "100365  2017-08-03 18:04:24  \n",
       "100366  2017-08-03 18:05:04  \n",
       "100368  2017-08-03 18:06:07  \n",
       "100371  2017-08-03 18:07:18  \n",
       "100374  2017-08-03 18:08:25  \n",
       "100379  2017-08-03 18:10:24  \n",
       "100384  2017-08-03 18:12:12  \n",
       "100386  2017-08-03 18:12:59  \n",
       "100387  2017-08-03 18:13:19  \n",
       "100390  2017-08-03 18:14:24  \n",
       "100391  2017-08-03 18:14:50  \n",
       "100392  2017-08-03 18:17:26  \n",
       "100399  2017-08-03 18:32:41  \n",
       "100400  2017-08-03 18:33:21  \n",
       "100401  2017-08-03 18:34:43  "
      ]
     },
     "execution_count": 197,
     "metadata": {},
     "output_type": "execute_result"
    }
   ],
   "source": [
    "df[df.id_order == 385921]"
   ]
  },
  {
   "cell_type": "markdown",
   "id": "5cc72442",
   "metadata": {},
   "source": [
    "3. Find out in how many different orders have been sold the products with the following `sku`: `APP2431` and `APP2348`."
   ]
  },
  {
   "cell_type": "code",
   "execution_count": 198,
   "id": "981e4fce",
   "metadata": {},
   "outputs": [
    {
     "data": {
      "text/plain": [
       "179"
      ]
     },
     "execution_count": 198,
     "metadata": {},
     "output_type": "execute_result"
    }
   ],
   "source": [
    "df[df.sku.isin(['APP2431', 'APP2348'])].id_order.nunique()"
   ]
  },
  {
   "cell_type": "markdown",
   "id": "9f86c305",
   "metadata": {},
   "source": [
    "4. Create a new dataframe with all the rows that have a product quantity higher than 500. Call this new dataframe `df_50`, and include only the columns `id`, `id_order`, `product_quantity` and `sku`. Be sure to use the method `.copy()`. \n",
    "\n",
    "Once the dataset is created, modify the column `product_quantity` to `quantity`, and `sku'` to `product_code`. To do so, you can use the methods `.rename()` or `.columns`.\n"
   ]
  },
  {
   "cell_type": "code",
   "execution_count": 201,
   "id": "f822bc49",
   "metadata": {},
   "outputs": [
    {
     "data": {
      "text/html": [
       "<div>\n",
       "<style scoped>\n",
       "    .dataframe tbody tr th:only-of-type {\n",
       "        vertical-align: middle;\n",
       "    }\n",
       "\n",
       "    .dataframe tbody tr th {\n",
       "        vertical-align: top;\n",
       "    }\n",
       "\n",
       "    .dataframe thead th {\n",
       "        text-align: right;\n",
       "    }\n",
       "</style>\n",
       "<table border=\"1\" class=\"dataframe\">\n",
       "  <thead>\n",
       "    <tr style=\"text-align: right;\">\n",
       "      <th></th>\n",
       "      <th>id_order</th>\n",
       "      <th>id</th>\n",
       "      <th>product_id</th>\n",
       "      <th>product_quantity</th>\n",
       "      <th>sku</th>\n",
       "      <th>unit_price</th>\n",
       "      <th>date</th>\n",
       "    </tr>\n",
       "  </thead>\n",
       "  <tbody>\n",
       "    <tr>\n",
       "      <th>53860</th>\n",
       "      <td>346221</td>\n",
       "      <td>1228150</td>\n",
       "      <td>0</td>\n",
       "      <td>999</td>\n",
       "      <td>APP1190</td>\n",
       "      <td>55.99</td>\n",
       "      <td>2017-04-14 21:50:52</td>\n",
       "    </tr>\n",
       "    <tr>\n",
       "      <th>57306</th>\n",
       "      <td>349133</td>\n",
       "      <td>1234111</td>\n",
       "      <td>0</td>\n",
       "      <td>555</td>\n",
       "      <td>APP0665</td>\n",
       "      <td>70.99</td>\n",
       "      <td>2017-04-24 10:20:13</td>\n",
       "    </tr>\n",
       "    <tr>\n",
       "      <th>57796</th>\n",
       "      <td>349475</td>\n",
       "      <td>1234924</td>\n",
       "      <td>0</td>\n",
       "      <td>800</td>\n",
       "      <td>KIN0137</td>\n",
       "      <td>7.49</td>\n",
       "      <td>2017-04-25 09:59:00</td>\n",
       "    </tr>\n",
       "    <tr>\n",
       "      <th>68712</th>\n",
       "      <td>358747</td>\n",
       "      <td>1254032</td>\n",
       "      <td>0</td>\n",
       "      <td>999</td>\n",
       "      <td>SEV0028</td>\n",
       "      <td>19.99</td>\n",
       "      <td>2017-05-24 14:51:58</td>\n",
       "    </tr>\n",
       "  </tbody>\n",
       "</table>\n",
       "</div>"
      ],
      "text/plain": [
       "       id_order       id  product_id  product_quantity      sku unit_price  \\\n",
       "53860    346221  1228150           0               999  APP1190      55.99   \n",
       "57306    349133  1234111           0               555  APP0665      70.99   \n",
       "57796    349475  1234924           0               800  KIN0137       7.49   \n",
       "68712    358747  1254032           0               999  SEV0028      19.99   \n",
       "\n",
       "                      date  \n",
       "53860  2017-04-14 21:50:52  \n",
       "57306  2017-04-24 10:20:13  \n",
       "57796  2017-04-25 09:59:00  \n",
       "68712  2017-05-24 14:51:58  "
      ]
     },
     "execution_count": 201,
     "metadata": {},
     "output_type": "execute_result"
    }
   ],
   "source": [
    "df_50 = df[df.product_quantity > 500][['id', 'id_order', 'product_quantity', 'sku']].copy()\n",
    "df_50.rename({'product_quantity': 'quantity', 'sku': 'product_code'}, axis=1, inplace=True)\n",
    "df_50"
   ]
  },
  {
   "cell_type": "markdown",
   "id": "f568ecf3",
   "metadata": {},
   "source": [
    "5. Select all the order lines (i.e. all the rows) where the product `XDO0047` has appeared. Sort the product quantity in a DESCENDING order using the pandas method [`.sort_values()`](https://pandas.pydata.org/docs/reference/api/pandas.DataFrame.sort_values.html). Then look at the main descriptive information of this results with the method `.describe()`."
   ]
  },
  {
   "cell_type": "code",
   "execution_count": 202,
   "id": "e29cf2f2",
   "metadata": {
    "tags": []
   },
   "outputs": [
    {
     "data": {
      "text/html": [
       "<div>\n",
       "<style scoped>\n",
       "    .dataframe tbody tr th:only-of-type {\n",
       "        vertical-align: middle;\n",
       "    }\n",
       "\n",
       "    .dataframe tbody tr th {\n",
       "        vertical-align: top;\n",
       "    }\n",
       "\n",
       "    .dataframe thead th {\n",
       "        text-align: right;\n",
       "    }\n",
       "</style>\n",
       "<table border=\"1\" class=\"dataframe\">\n",
       "  <thead>\n",
       "    <tr style=\"text-align: right;\">\n",
       "      <th></th>\n",
       "      <th>id_order</th>\n",
       "      <th>id</th>\n",
       "      <th>product_id</th>\n",
       "      <th>product_quantity</th>\n",
       "      <th>sku</th>\n",
       "      <th>unit_price</th>\n",
       "      <th>date</th>\n",
       "    </tr>\n",
       "  </thead>\n",
       "  <tbody>\n",
       "    <tr>\n",
       "      <th>285492</th>\n",
       "      <td>522075</td>\n",
       "      <td>1637611</td>\n",
       "      <td>0</td>\n",
       "      <td>125</td>\n",
       "      <td>XDO0047</td>\n",
       "      <td>25.99</td>\n",
       "      <td>2018-03-06 10:07:54</td>\n",
       "    </tr>\n",
       "    <tr>\n",
       "      <th>203932</th>\n",
       "      <td>464239</td>\n",
       "      <td>1499415</td>\n",
       "      <td>0</td>\n",
       "      <td>2</td>\n",
       "      <td>XDO0047</td>\n",
       "      <td>25.99</td>\n",
       "      <td>2017-12-16 09:36:51</td>\n",
       "    </tr>\n",
       "    <tr>\n",
       "      <th>124018</th>\n",
       "      <td>406387</td>\n",
       "      <td>1365515</td>\n",
       "      <td>0</td>\n",
       "      <td>1</td>\n",
       "      <td>XDO0047</td>\n",
       "      <td>23.39</td>\n",
       "      <td>2017-09-29 17:09:32</td>\n",
       "    </tr>\n",
       "    <tr>\n",
       "      <th>238277</th>\n",
       "      <td>491065</td>\n",
       "      <td>1561096</td>\n",
       "      <td>0</td>\n",
       "      <td>1</td>\n",
       "      <td>XDO0047</td>\n",
       "      <td>25.99</td>\n",
       "      <td>2018-01-15 09:39:07</td>\n",
       "    </tr>\n",
       "    <tr>\n",
       "      <th>186320</th>\n",
       "      <td>454473</td>\n",
       "      <td>1474709</td>\n",
       "      <td>0</td>\n",
       "      <td>1</td>\n",
       "      <td>XDO0047</td>\n",
       "      <td>25.99</td>\n",
       "      <td>2017-12-03 17:05:14</td>\n",
       "    </tr>\n",
       "    <tr>\n",
       "      <th>197678</th>\n",
       "      <td>460182</td>\n",
       "      <td>1489835</td>\n",
       "      <td>0</td>\n",
       "      <td>1</td>\n",
       "      <td>XDO0047</td>\n",
       "      <td>25.99</td>\n",
       "      <td>2017-12-11 20:28:12</td>\n",
       "    </tr>\n",
       "    <tr>\n",
       "      <th>216416</th>\n",
       "      <td>475450</td>\n",
       "      <td>1523205</td>\n",
       "      <td>0</td>\n",
       "      <td>1</td>\n",
       "      <td>XDO0047</td>\n",
       "      <td>25.99</td>\n",
       "      <td>2017-12-28 20:44:19</td>\n",
       "    </tr>\n",
       "    <tr>\n",
       "      <th>217466</th>\n",
       "      <td>476341</td>\n",
       "      <td>1525182</td>\n",
       "      <td>0</td>\n",
       "      <td>1</td>\n",
       "      <td>XDO0047</td>\n",
       "      <td>22.09</td>\n",
       "      <td>2017-12-29 15:39:11</td>\n",
       "    </tr>\n",
       "    <tr>\n",
       "      <th>217957</th>\n",
       "      <td>476848</td>\n",
       "      <td>1526191</td>\n",
       "      <td>0</td>\n",
       "      <td>1</td>\n",
       "      <td>XDO0047</td>\n",
       "      <td>22.09</td>\n",
       "      <td>2017-12-29 21:32:50</td>\n",
       "    </tr>\n",
       "    <tr>\n",
       "      <th>246332</th>\n",
       "      <td>496429</td>\n",
       "      <td>1574873</td>\n",
       "      <td>0</td>\n",
       "      <td>1</td>\n",
       "      <td>XDO0047</td>\n",
       "      <td>25.99</td>\n",
       "      <td>2018-01-22 23:03:34</td>\n",
       "    </tr>\n",
       "    <tr>\n",
       "      <th>134170</th>\n",
       "      <td>415390</td>\n",
       "      <td>1383903</td>\n",
       "      <td>0</td>\n",
       "      <td>1</td>\n",
       "      <td>XDO0047</td>\n",
       "      <td>25.99</td>\n",
       "      <td>2017-10-21 01:03:55</td>\n",
       "    </tr>\n",
       "    <tr>\n",
       "      <th>249677</th>\n",
       "      <td>498216</td>\n",
       "      <td>1579784</td>\n",
       "      <td>0</td>\n",
       "      <td>1</td>\n",
       "      <td>XDO0047</td>\n",
       "      <td>25.99</td>\n",
       "      <td>2018-01-25 10:37:25</td>\n",
       "    </tr>\n",
       "    <tr>\n",
       "      <th>251953</th>\n",
       "      <td>499709</td>\n",
       "      <td>1583471</td>\n",
       "      <td>0</td>\n",
       "      <td>1</td>\n",
       "      <td>XDO0047</td>\n",
       "      <td>25.99</td>\n",
       "      <td>2018-01-27 17:52:28</td>\n",
       "    </tr>\n",
       "    <tr>\n",
       "      <th>265822</th>\n",
       "      <td>507776</td>\n",
       "      <td>1604972</td>\n",
       "      <td>0</td>\n",
       "      <td>1</td>\n",
       "      <td>XDO0047</td>\n",
       "      <td>25.99</td>\n",
       "      <td>2018-02-07 19:19:13</td>\n",
       "    </tr>\n",
       "    <tr>\n",
       "      <th>275501</th>\n",
       "      <td>514654</td>\n",
       "      <td>1620872</td>\n",
       "      <td>0</td>\n",
       "      <td>1</td>\n",
       "      <td>XDO0047</td>\n",
       "      <td>25.99</td>\n",
       "      <td>2018-02-20 09:08:00</td>\n",
       "    </tr>\n",
       "    <tr>\n",
       "      <th>278758</th>\n",
       "      <td>517103</td>\n",
       "      <td>1626412</td>\n",
       "      <td>0</td>\n",
       "      <td>1</td>\n",
       "      <td>XDO0047</td>\n",
       "      <td>25.99</td>\n",
       "      <td>2018-02-25 10:56:20</td>\n",
       "    </tr>\n",
       "    <tr>\n",
       "      <th>285641</th>\n",
       "      <td>522203</td>\n",
       "      <td>1637907</td>\n",
       "      <td>0</td>\n",
       "      <td>1</td>\n",
       "      <td>XDO0047</td>\n",
       "      <td>25.99</td>\n",
       "      <td>2018-03-06 13:54:01</td>\n",
       "    </tr>\n",
       "    <tr>\n",
       "      <th>186126</th>\n",
       "      <td>454367</td>\n",
       "      <td>1474463</td>\n",
       "      <td>0</td>\n",
       "      <td>1</td>\n",
       "      <td>XDO0047</td>\n",
       "      <td>25.99</td>\n",
       "      <td>2017-12-03 13:20:08</td>\n",
       "    </tr>\n",
       "    <tr>\n",
       "      <th>184876</th>\n",
       "      <td>453923</td>\n",
       "      <td>1473085</td>\n",
       "      <td>0</td>\n",
       "      <td>1</td>\n",
       "      <td>XDO0047</td>\n",
       "      <td>25.99</td>\n",
       "      <td>2017-12-02 21:48:27</td>\n",
       "    </tr>\n",
       "    <tr>\n",
       "      <th>182659</th>\n",
       "      <td>452571</td>\n",
       "      <td>1469771</td>\n",
       "      <td>0</td>\n",
       "      <td>1</td>\n",
       "      <td>XDO0047</td>\n",
       "      <td>25.99</td>\n",
       "      <td>2017-11-30 12:37:23</td>\n",
       "    </tr>\n",
       "    <tr>\n",
       "      <th>145407</th>\n",
       "      <td>424898</td>\n",
       "      <td>1404047</td>\n",
       "      <td>0</td>\n",
       "      <td>1</td>\n",
       "      <td>XDO0047</td>\n",
       "      <td>25.99</td>\n",
       "      <td>2017-11-11 10:22:19</td>\n",
       "    </tr>\n",
       "    <tr>\n",
       "      <th>134716</th>\n",
       "      <td>415827</td>\n",
       "      <td>1384827</td>\n",
       "      <td>0</td>\n",
       "      <td>1</td>\n",
       "      <td>XDO0047</td>\n",
       "      <td>25.99</td>\n",
       "      <td>2017-10-22 18:16:59</td>\n",
       "    </tr>\n",
       "    <tr>\n",
       "      <th>136618</th>\n",
       "      <td>417320</td>\n",
       "      <td>1388160</td>\n",
       "      <td>0</td>\n",
       "      <td>1</td>\n",
       "      <td>XDO0047</td>\n",
       "      <td>25.99</td>\n",
       "      <td>2017-10-25 13:36:49</td>\n",
       "    </tr>\n",
       "    <tr>\n",
       "      <th>137225</th>\n",
       "      <td>418038</td>\n",
       "      <td>1389335</td>\n",
       "      <td>0</td>\n",
       "      <td>1</td>\n",
       "      <td>XDO0047</td>\n",
       "      <td>25.99</td>\n",
       "      <td>2017-10-26 12:40:41</td>\n",
       "    </tr>\n",
       "    <tr>\n",
       "      <th>137682</th>\n",
       "      <td>418446</td>\n",
       "      <td>1390163</td>\n",
       "      <td>0</td>\n",
       "      <td>1</td>\n",
       "      <td>XDO0047</td>\n",
       "      <td>25.99</td>\n",
       "      <td>2017-10-27 08:49:01</td>\n",
       "    </tr>\n",
       "    <tr>\n",
       "      <th>143899</th>\n",
       "      <td>423284</td>\n",
       "      <td>1401174</td>\n",
       "      <td>0</td>\n",
       "      <td>1</td>\n",
       "      <td>XDO0047</td>\n",
       "      <td>22.09</td>\n",
       "      <td>2017-11-09 10:44:37</td>\n",
       "    </tr>\n",
       "    <tr>\n",
       "      <th>144132</th>\n",
       "      <td>423903</td>\n",
       "      <td>1401567</td>\n",
       "      <td>0</td>\n",
       "      <td>1</td>\n",
       "      <td>XDO0047</td>\n",
       "      <td>25.99</td>\n",
       "      <td>2017-11-09 17:53:32</td>\n",
       "    </tr>\n",
       "    <tr>\n",
       "      <th>146716</th>\n",
       "      <td>425651</td>\n",
       "      <td>1406425</td>\n",
       "      <td>0</td>\n",
       "      <td>1</td>\n",
       "      <td>XDO0047</td>\n",
       "      <td>25.99</td>\n",
       "      <td>2017-11-13 11:25:32</td>\n",
       "    </tr>\n",
       "    <tr>\n",
       "      <th>181401</th>\n",
       "      <td>451784</td>\n",
       "      <td>1467890</td>\n",
       "      <td>0</td>\n",
       "      <td>1</td>\n",
       "      <td>XDO0047</td>\n",
       "      <td>21.48</td>\n",
       "      <td>2017-11-29 13:13:16</td>\n",
       "    </tr>\n",
       "    <tr>\n",
       "      <th>153645</th>\n",
       "      <td>428540</td>\n",
       "      <td>1422736</td>\n",
       "      <td>0</td>\n",
       "      <td>1</td>\n",
       "      <td>XDO0047</td>\n",
       "      <td>22.09</td>\n",
       "      <td>2017-11-22 21:25:51</td>\n",
       "    </tr>\n",
       "    <tr>\n",
       "      <th>156369</th>\n",
       "      <td>434389</td>\n",
       "      <td>1427484</td>\n",
       "      <td>0</td>\n",
       "      <td>1</td>\n",
       "      <td>XDO0047</td>\n",
       "      <td>22.09</td>\n",
       "      <td>2017-11-23 12:54:12</td>\n",
       "    </tr>\n",
       "    <tr>\n",
       "      <th>157336</th>\n",
       "      <td>435298</td>\n",
       "      <td>1429263</td>\n",
       "      <td>0</td>\n",
       "      <td>1</td>\n",
       "      <td>XDO0047</td>\n",
       "      <td>22.09</td>\n",
       "      <td>2017-11-23 17:54:14</td>\n",
       "    </tr>\n",
       "    <tr>\n",
       "      <th>157683</th>\n",
       "      <td>435601</td>\n",
       "      <td>1429912</td>\n",
       "      <td>0</td>\n",
       "      <td>1</td>\n",
       "      <td>XDO0047</td>\n",
       "      <td>22.09</td>\n",
       "      <td>2017-11-23 19:50:43</td>\n",
       "    </tr>\n",
       "    <tr>\n",
       "      <th>157691</th>\n",
       "      <td>435609</td>\n",
       "      <td>1429925</td>\n",
       "      <td>0</td>\n",
       "      <td>1</td>\n",
       "      <td>XDO0047</td>\n",
       "      <td>22.09</td>\n",
       "      <td>2017-11-23 19:52:49</td>\n",
       "    </tr>\n",
       "    <tr>\n",
       "      <th>164430</th>\n",
       "      <td>439528</td>\n",
       "      <td>1441619</td>\n",
       "      <td>0</td>\n",
       "      <td>1</td>\n",
       "      <td>XDO0047</td>\n",
       "      <td>22.09</td>\n",
       "      <td>2017-11-24 19:40:48</td>\n",
       "    </tr>\n",
       "    <tr>\n",
       "      <th>287315</th>\n",
       "      <td>523533</td>\n",
       "      <td>1640821</td>\n",
       "      <td>0</td>\n",
       "      <td>1</td>\n",
       "      <td>XDO0047</td>\n",
       "      <td>25.99</td>\n",
       "      <td>2018-03-08 23:14:14</td>\n",
       "    </tr>\n",
       "  </tbody>\n",
       "</table>\n",
       "</div>"
      ],
      "text/plain": [
       "        id_order       id  product_id  product_quantity      sku unit_price  \\\n",
       "285492    522075  1637611           0               125  XDO0047      25.99   \n",
       "203932    464239  1499415           0                 2  XDO0047      25.99   \n",
       "124018    406387  1365515           0                 1  XDO0047      23.39   \n",
       "238277    491065  1561096           0                 1  XDO0047      25.99   \n",
       "186320    454473  1474709           0                 1  XDO0047      25.99   \n",
       "197678    460182  1489835           0                 1  XDO0047      25.99   \n",
       "216416    475450  1523205           0                 1  XDO0047      25.99   \n",
       "217466    476341  1525182           0                 1  XDO0047      22.09   \n",
       "217957    476848  1526191           0                 1  XDO0047      22.09   \n",
       "246332    496429  1574873           0                 1  XDO0047      25.99   \n",
       "134170    415390  1383903           0                 1  XDO0047      25.99   \n",
       "249677    498216  1579784           0                 1  XDO0047      25.99   \n",
       "251953    499709  1583471           0                 1  XDO0047      25.99   \n",
       "265822    507776  1604972           0                 1  XDO0047      25.99   \n",
       "275501    514654  1620872           0                 1  XDO0047      25.99   \n",
       "278758    517103  1626412           0                 1  XDO0047      25.99   \n",
       "285641    522203  1637907           0                 1  XDO0047      25.99   \n",
       "186126    454367  1474463           0                 1  XDO0047      25.99   \n",
       "184876    453923  1473085           0                 1  XDO0047      25.99   \n",
       "182659    452571  1469771           0                 1  XDO0047      25.99   \n",
       "145407    424898  1404047           0                 1  XDO0047      25.99   \n",
       "134716    415827  1384827           0                 1  XDO0047      25.99   \n",
       "136618    417320  1388160           0                 1  XDO0047      25.99   \n",
       "137225    418038  1389335           0                 1  XDO0047      25.99   \n",
       "137682    418446  1390163           0                 1  XDO0047      25.99   \n",
       "143899    423284  1401174           0                 1  XDO0047      22.09   \n",
       "144132    423903  1401567           0                 1  XDO0047      25.99   \n",
       "146716    425651  1406425           0                 1  XDO0047      25.99   \n",
       "181401    451784  1467890           0                 1  XDO0047      21.48   \n",
       "153645    428540  1422736           0                 1  XDO0047      22.09   \n",
       "156369    434389  1427484           0                 1  XDO0047      22.09   \n",
       "157336    435298  1429263           0                 1  XDO0047      22.09   \n",
       "157683    435601  1429912           0                 1  XDO0047      22.09   \n",
       "157691    435609  1429925           0                 1  XDO0047      22.09   \n",
       "164430    439528  1441619           0                 1  XDO0047      22.09   \n",
       "287315    523533  1640821           0                 1  XDO0047      25.99   \n",
       "\n",
       "                       date  \n",
       "285492  2018-03-06 10:07:54  \n",
       "203932  2017-12-16 09:36:51  \n",
       "124018  2017-09-29 17:09:32  \n",
       "238277  2018-01-15 09:39:07  \n",
       "186320  2017-12-03 17:05:14  \n",
       "197678  2017-12-11 20:28:12  \n",
       "216416  2017-12-28 20:44:19  \n",
       "217466  2017-12-29 15:39:11  \n",
       "217957  2017-12-29 21:32:50  \n",
       "246332  2018-01-22 23:03:34  \n",
       "134170  2017-10-21 01:03:55  \n",
       "249677  2018-01-25 10:37:25  \n",
       "251953  2018-01-27 17:52:28  \n",
       "265822  2018-02-07 19:19:13  \n",
       "275501  2018-02-20 09:08:00  \n",
       "278758  2018-02-25 10:56:20  \n",
       "285641  2018-03-06 13:54:01  \n",
       "186126  2017-12-03 13:20:08  \n",
       "184876  2017-12-02 21:48:27  \n",
       "182659  2017-11-30 12:37:23  \n",
       "145407  2017-11-11 10:22:19  \n",
       "134716  2017-10-22 18:16:59  \n",
       "136618  2017-10-25 13:36:49  \n",
       "137225  2017-10-26 12:40:41  \n",
       "137682  2017-10-27 08:49:01  \n",
       "143899  2017-11-09 10:44:37  \n",
       "144132  2017-11-09 17:53:32  \n",
       "146716  2017-11-13 11:25:32  \n",
       "181401  2017-11-29 13:13:16  \n",
       "153645  2017-11-22 21:25:51  \n",
       "156369  2017-11-23 12:54:12  \n",
       "157336  2017-11-23 17:54:14  \n",
       "157683  2017-11-23 19:50:43  \n",
       "157691  2017-11-23 19:52:49  \n",
       "164430  2017-11-24 19:40:48  \n",
       "287315  2018-03-08 23:14:14  "
      ]
     },
     "execution_count": 202,
     "metadata": {},
     "output_type": "execute_result"
    }
   ],
   "source": [
    "df[df.sku=='XDO0047'].sort_values('product_quantity', ascending=False)"
   ]
  },
  {
   "cell_type": "code",
   "execution_count": 203,
   "id": "4a5c4c91-7f09-4714-ba13-126a5d353485",
   "metadata": {},
   "outputs": [
    {
     "data": {
      "text/html": [
       "<div>\n",
       "<style scoped>\n",
       "    .dataframe tbody tr th:only-of-type {\n",
       "        vertical-align: middle;\n",
       "    }\n",
       "\n",
       "    .dataframe tbody tr th {\n",
       "        vertical-align: top;\n",
       "    }\n",
       "\n",
       "    .dataframe thead th {\n",
       "        text-align: right;\n",
       "    }\n",
       "</style>\n",
       "<table border=\"1\" class=\"dataframe\">\n",
       "  <thead>\n",
       "    <tr style=\"text-align: right;\">\n",
       "      <th></th>\n",
       "      <th>id_order</th>\n",
       "      <th>id</th>\n",
       "      <th>product_id</th>\n",
       "      <th>product_quantity</th>\n",
       "    </tr>\n",
       "  </thead>\n",
       "  <tbody>\n",
       "    <tr>\n",
       "      <th>count</th>\n",
       "      <td>36.000000</td>\n",
       "      <td>3.600000e+01</td>\n",
       "      <td>36.0</td>\n",
       "      <td>36.000000</td>\n",
       "    </tr>\n",
       "    <tr>\n",
       "      <th>mean</th>\n",
       "      <td>458640.277778</td>\n",
       "      <td>1.485767e+06</td>\n",
       "      <td>0.0</td>\n",
       "      <td>4.472222</td>\n",
       "    </tr>\n",
       "    <tr>\n",
       "      <th>std</th>\n",
       "      <td>36891.598431</td>\n",
       "      <td>8.770532e+04</td>\n",
       "      <td>0.0</td>\n",
       "      <td>20.662576</td>\n",
       "    </tr>\n",
       "    <tr>\n",
       "      <th>min</th>\n",
       "      <td>406387.000000</td>\n",
       "      <td>1.365515e+06</td>\n",
       "      <td>0.0</td>\n",
       "      <td>1.000000</td>\n",
       "    </tr>\n",
       "    <tr>\n",
       "      <th>25%</th>\n",
       "      <td>425462.750000</td>\n",
       "      <td>1.405830e+06</td>\n",
       "      <td>0.0</td>\n",
       "      <td>1.000000</td>\n",
       "    </tr>\n",
       "    <tr>\n",
       "      <th>50%</th>\n",
       "      <td>453247.000000</td>\n",
       "      <td>1.471428e+06</td>\n",
       "      <td>0.0</td>\n",
       "      <td>1.000000</td>\n",
       "    </tr>\n",
       "    <tr>\n",
       "      <th>75%</th>\n",
       "      <td>492406.000000</td>\n",
       "      <td>1.564540e+06</td>\n",
       "      <td>0.0</td>\n",
       "      <td>1.000000</td>\n",
       "    </tr>\n",
       "    <tr>\n",
       "      <th>max</th>\n",
       "      <td>523533.000000</td>\n",
       "      <td>1.640821e+06</td>\n",
       "      <td>0.0</td>\n",
       "      <td>125.000000</td>\n",
       "    </tr>\n",
       "  </tbody>\n",
       "</table>\n",
       "</div>"
      ],
      "text/plain": [
       "            id_order            id  product_id  product_quantity\n",
       "count      36.000000  3.600000e+01        36.0         36.000000\n",
       "mean   458640.277778  1.485767e+06         0.0          4.472222\n",
       "std     36891.598431  8.770532e+04         0.0         20.662576\n",
       "min    406387.000000  1.365515e+06         0.0          1.000000\n",
       "25%    425462.750000  1.405830e+06         0.0          1.000000\n",
       "50%    453247.000000  1.471428e+06         0.0          1.000000\n",
       "75%    492406.000000  1.564540e+06         0.0          1.000000\n",
       "max    523533.000000  1.640821e+06         0.0        125.000000"
      ]
     },
     "execution_count": 203,
     "metadata": {},
     "output_type": "execute_result"
    }
   ],
   "source": [
    "df[df.sku=='XDO0047'].sort_values('product_quantity', ascending=False).describe()"
   ]
  }
 ],
 "metadata": {
  "kernelspec": {
   "display_name": "Python 3",
   "language": "python",
   "name": "python3"
  },
  "language_info": {
   "codemirror_mode": {
    "name": "ipython",
    "version": 3
   },
   "file_extension": ".py",
   "mimetype": "text/x-python",
   "name": "python",
   "nbconvert_exporter": "python",
   "pygments_lexer": "ipython3",
   "version": "3.8.8"
  }
 },
 "nbformat": 4,
 "nbformat_minor": 5
}
