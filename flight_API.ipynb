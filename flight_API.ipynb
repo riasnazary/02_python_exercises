{
 "cells": [
  {
   "cell_type": "markdown",
   "id": "d50535dc-6e4d-4b3a-85e4-9824782ba1a7",
   "metadata": {},
   "source": [
    "# flight_API"
   ]
  },
  {
   "cell_type": "code",
   "execution_count": 4,
   "id": "f574ad1b-af7a-48ae-ad47-e61e4026afda",
   "metadata": {
    "jupyter": {
     "source_hidden": true
    },
    "tags": []
   },
   "outputs": [],
   "source": [
    "import requests\n",
    "\n",
    "url = \"https://aerodatabox.p.rapidapi.com/health/services/feeds/FlightSchedules/airports\"\n",
    "\n",
    "headers = {\n",
    "    'x-rapidapi-host': \"aerodatabox.p.rapidapi.com\",\n",
    "    'x-rapidapi-key': \"32c271d717msh1815911e0c69003p139840jsne3c69aad4913\"\n",
    "    }\n",
    "\n",
    "response = requests.request(\"GET\", url, headers=headers)\n",
    "\n",
    "# print(response.text)"
   ]
  },
  {
   "cell_type": "code",
   "execution_count": 23,
   "id": "d8b16470-126f-4740-ad04-8e8b2e0ef02a",
   "metadata": {},
   "outputs": [],
   "source": [
    "from IPython.display import JSON\n",
    "import pandas as pd"
   ]
  },
  {
   "cell_type": "code",
   "execution_count": 219,
   "id": "960f1b02-2dc7-47a2-9f6b-c3267a8cf700",
   "metadata": {},
   "outputs": [],
   "source": [
    "import requests\n",
    "url = \"https://aerodatabox.p.rapidapi.com/flights/airports/icao/EDDB/2021-11-25T08:00/2021-11-25T20:00\"\n",
    "querystring = {\"withLeg\":\"true\",\"direction\":\"Arrival\",\"withCodeshared\":\"true\",\"withLocation\":\"true\"}\n",
    "headers = {\n",
    "    'x-rapidapi-host': \"aerodatabox.p.rapidapi.com\",\n",
    "    'x-rapidapi-key': \"32c271d717msh1815911e0c69003p139840jsne3c69aad4913\"\n",
    "    }\n",
    "response = requests.request(\"GET\", url, headers=headers, params=querystring)\n",
    "# JSON(response.json())"
   ]
  },
  {
   "cell_type": "code",
   "execution_count": 212,
   "id": "abe31233-719d-43e6-91cc-777cb5bcfc8c",
   "metadata": {},
   "outputs": [],
   "source": [
    "arrival_api = response.json()"
   ]
  },
  {
   "cell_type": "code",
   "execution_count": 214,
   "id": "b4aa56b6-5480-4ce3-8f2b-9675af182387",
   "metadata": {},
   "outputs": [],
   "source": [
    "# pd.DataFrame(arrival_api['arrivals'])[:1]"
   ]
  },
  {
   "cell_type": "code",
   "execution_count": 215,
   "id": "07a324e1-3583-4537-a1c3-a40b92c10a22",
   "metadata": {},
   "outputs": [],
   "source": [
    "# len(arrival_api['arrivals'])"
   ]
  },
  {
   "cell_type": "code",
   "execution_count": 220,
   "id": "0f53f28c-d80f-4884-9905-096a61341be7",
   "metadata": {},
   "outputs": [
    {
     "name": "stdout",
     "output_type": "stream",
     "text": [
      "Scheduled arrival time for flight to Berlin,DE (EDDB) for 2021-11-25\n",
      "\n"
     ]
    },
    {
     "data": {
      "text/html": [
       "<div>\n",
       "<style scoped>\n",
       "    .dataframe tbody tr th:only-of-type {\n",
       "        vertical-align: middle;\n",
       "    }\n",
       "\n",
       "    .dataframe tbody tr th {\n",
       "        vertical-align: top;\n",
       "    }\n",
       "\n",
       "    .dataframe thead th {\n",
       "        text-align: right;\n",
       "    }\n",
       "</style>\n",
       "<table border=\"1\" class=\"dataframe\">\n",
       "  <thead>\n",
       "    <tr style=\"text-align: right;\">\n",
       "      <th></th>\n",
       "      <th>from</th>\n",
       "      <th>flight_no</th>\n",
       "      <th>airline</th>\n",
       "      <th>scheduled_time</th>\n",
       "    </tr>\n",
       "  </thead>\n",
       "  <tbody>\n",
       "    <tr>\n",
       "      <th>0</th>\n",
       "      <td>Saarbrücken</td>\n",
       "      <td>DX 121</td>\n",
       "      <td>Danish Air</td>\n",
       "      <td>2021-11-25 08:10+01:00</td>\n",
       "    </tr>\n",
       "    <tr>\n",
       "      <th>1</th>\n",
       "      <td>Munich</td>\n",
       "      <td>LH 1928</td>\n",
       "      <td>Lufthansa</td>\n",
       "      <td>2021-11-25 08:10+01:00</td>\n",
       "    </tr>\n",
       "    <tr>\n",
       "      <th>2</th>\n",
       "      <td>Luxembourg</td>\n",
       "      <td>LG 9471</td>\n",
       "      <td>Luxair</td>\n",
       "      <td>2021-11-25 08:15+01:00</td>\n",
       "    </tr>\n",
       "    <tr>\n",
       "      <th>3</th>\n",
       "      <td>Pisa</td>\n",
       "      <td>FR 9955</td>\n",
       "      <td>Ryanair</td>\n",
       "      <td>2021-11-25 08:45+01:00</td>\n",
       "    </tr>\n",
       "    <tr>\n",
       "      <th>4</th>\n",
       "      <td>Zurich</td>\n",
       "      <td>LX 974</td>\n",
       "      <td>SWISS</td>\n",
       "      <td>2021-11-25 08:45+01:00</td>\n",
       "    </tr>\n",
       "    <tr>\n",
       "      <th>5</th>\n",
       "      <td>Paris</td>\n",
       "      <td>AF 7354</td>\n",
       "      <td>Air France</td>\n",
       "      <td>2021-11-25 08:55+01:00</td>\n",
       "    </tr>\n",
       "    <tr>\n",
       "      <th>6</th>\n",
       "      <td>Vienna</td>\n",
       "      <td>OS 223</td>\n",
       "      <td>Austrian</td>\n",
       "      <td>2021-11-25 08:55+01:00</td>\n",
       "    </tr>\n",
       "    <tr>\n",
       "      <th>7</th>\n",
       "      <td>Frankfurt-am-Main</td>\n",
       "      <td>LH 174</td>\n",
       "      <td>Lufthansa</td>\n",
       "      <td>2021-11-25 08:55+01:00</td>\n",
       "    </tr>\n",
       "    <tr>\n",
       "      <th>8</th>\n",
       "      <td>Belgrade</td>\n",
       "      <td>JU 350</td>\n",
       "      <td>Air Serbia</td>\n",
       "      <td>2021-11-25 09:00+01:00</td>\n",
       "    </tr>\n",
       "    <tr>\n",
       "      <th>9</th>\n",
       "      <td>Oslo</td>\n",
       "      <td>DY 1102</td>\n",
       "      <td>Norwegian Air Shuttle</td>\n",
       "      <td>2021-11-25 09:10+01:00</td>\n",
       "    </tr>\n",
       "  </tbody>\n",
       "</table>\n",
       "</div>"
      ],
      "text/plain": [
       "                from flight_no                airline          scheduled_time\n",
       "0        Saarbrücken    DX 121             Danish Air  2021-11-25 08:10+01:00\n",
       "1             Munich   LH 1928              Lufthansa  2021-11-25 08:10+01:00\n",
       "2         Luxembourg   LG 9471                 Luxair  2021-11-25 08:15+01:00\n",
       "3               Pisa   FR 9955                Ryanair  2021-11-25 08:45+01:00\n",
       "4             Zurich    LX 974                  SWISS  2021-11-25 08:45+01:00\n",
       "5              Paris   AF 7354             Air France  2021-11-25 08:55+01:00\n",
       "6             Vienna    OS 223               Austrian  2021-11-25 08:55+01:00\n",
       "7  Frankfurt-am-Main    LH 174              Lufthansa  2021-11-25 08:55+01:00\n",
       "8           Belgrade    JU 350             Air Serbia  2021-11-25 09:00+01:00\n",
       "9               Oslo   DY 1102  Norwegian Air Shuttle  2021-11-25 09:10+01:00"
      ]
     },
     "execution_count": 220,
     "metadata": {},
     "output_type": "execute_result"
    }
   ],
   "source": [
    "col_1 = []\n",
    "for i in range(len(arrival_api['arrivals'])):\n",
    "    col_1.append(arrival_api['arrivals'][i]['departure']['airport'][('name')])   \n",
    "col_2 = []\n",
    "for i in range(len(arrival_api['arrivals'])):\n",
    "    col_2.append(arrival_api['arrivals'][i]['number'])   \n",
    "col_3 = []\n",
    "for i in range(len(arrival_api['arrivals'])):\n",
    "    col_3.append(arrival_api['arrivals'][i]['airline']['name'])   \n",
    "col_4 = []\n",
    "for i in range(len(arrival_api['arrivals'])):\n",
    "    col_4.append(arrival_api['arrivals'][i]['arrival']['scheduledTimeLocal'])\n",
    "df= pd.DataFrame({\"from\":col_1, \n",
    "                  \"flight_no\":col_2, \n",
    "                  \"airline\":col_3, \n",
    "                  \"scheduled_time\":col_4\n",
    "                 })\n",
    "print(\"Scheduled arrival time for flight to Berlin,DE (EDDB) for 2021-11-25\\n\")\n",
    "df.head(10)"
   ]
  }
 ],
 "metadata": {
  "kernelspec": {
   "display_name": "Python 3",
   "language": "python",
   "name": "python3"
  },
  "language_info": {
   "codemirror_mode": {
    "name": "ipython",
    "version": 3
   },
   "file_extension": ".py",
   "mimetype": "text/x-python",
   "name": "python",
   "nbconvert_exporter": "python",
   "pygments_lexer": "ipython3",
   "version": "3.8.8"
  }
 },
 "nbformat": 4,
 "nbformat_minor": 5
}
