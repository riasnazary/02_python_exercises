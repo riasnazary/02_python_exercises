{
 "cells": [
  {
   "cell_type": "markdown",
   "id": "d50535dc-6e4d-4b3a-85e4-9824782ba1a7",
   "metadata": {},
   "source": [
    "# flight_API"
   ]
  },
  {
   "cell_type": "code",
   "execution_count": 4,
   "id": "f574ad1b-af7a-48ae-ad47-e61e4026afda",
   "metadata": {
    "jupyter": {
     "source_hidden": true
    },
    "tags": []
   },
   "outputs": [],
   "source": [
    "import requests\n",
    "\n",
    "url = \"https://aerodatabox.p.rapidapi.com/health/services/feeds/FlightSchedules/airports\"\n",
    "\n",
    "headers = {\n",
    "    'x-rapidapi-host': \"aerodatabox.p.rapidapi.com\",\n",
    "    'x-rapidapi-key': \"32c271d717msh1815911e0c69003p139840jsne3c69aad4913\"\n",
    "    }\n",
    "\n",
    "response = requests.request(\"GET\", url, headers=headers)\n",
    "\n",
    "# print(response.text)"
   ]
  },
  {
   "cell_type": "code",
   "execution_count": 23,
   "id": "d8b16470-126f-4740-ad04-8e8b2e0ef02a",
   "metadata": {},
   "outputs": [],
   "source": [
    "from IPython.display import JSON"
   ]
  },
  {
   "cell_type": "code",
   "execution_count": 56,
   "id": "4faec65b-31f2-41c1-9715-fee2df4b0ba2",
   "metadata": {},
   "outputs": [],
   "source": [
    "import pandas as pd"
   ]
  },
  {
   "cell_type": "code",
   "execution_count": 192,
   "id": "960f1b02-2dc7-47a2-9f6b-c3267a8cf700",
   "metadata": {},
   "outputs": [
    {
     "data": {
      "application/json": {
       "arrivals": [
        {
         "aircraft": {
          "model": "ATR 72"
         },
         "airline": {
          "name": "Danish Air"
         },
         "arrival": {
          "quality": [
           "Basic"
          ],
          "scheduledTimeLocal": "2021-11-25 08:10+01:00",
          "scheduledTimeUtc": "2021-11-25 07:10Z",
          "terminal": "0"
         },
         "codeshareStatus": "Unknown",
         "departure": {
          "airport": {
           "iata": "SCN",
           "icao": "EDDR",
           "name": "Saarbrücken"
          },
          "quality": [
           "Basic"
          ],
          "scheduledTimeLocal": "2021-11-25 06:40+01:00",
          "scheduledTimeUtc": "2021-11-25 05:40Z"
         },
         "isCargo": false,
         "number": "DX 121",
         "status": "Unknown"
        },
        {
         "aircraft": {
          "model": "Airbus A320 NEO"
         },
         "airline": {
          "name": "Lufthansa"
         },
         "arrival": {
          "quality": [
           "Basic"
          ],
          "scheduledTimeLocal": "2021-11-25 08:10+01:00",
          "scheduledTimeUtc": "2021-11-25 07:10Z",
          "terminal": "1"
         },
         "codeshareStatus": "IsCodeshared",
         "departure": {
          "airport": {
           "iata": "MUC",
           "icao": "EDDM",
           "name": "Munich"
          },
          "quality": [
           "Basic"
          ],
          "scheduledTimeLocal": "2021-11-25 07:00+01:00",
          "scheduledTimeUtc": "2021-11-25 06:00Z",
          "terminal": "2"
         },
         "isCargo": false,
         "number": "LH 1928",
         "status": "Unknown"
        },
        {
         "aircraft": {
          "model": "Bombardier Dash 8 Q400 / DHC-8-400"
         },
         "airline": {
          "name": "Luxair"
         },
         "arrival": {
          "quality": [
           "Basic"
          ],
          "scheduledTimeLocal": "2021-11-25 08:15+01:00",
          "scheduledTimeUtc": "2021-11-25 07:15Z",
          "terminal": "1"
         },
         "codeshareStatus": "Unknown",
         "departure": {
          "actualTimeLocal": "2021-11-25 06:45+01:00",
          "actualTimeUtc": "2021-11-25 05:45Z",
          "airport": {
           "iata": "LUX",
           "icao": "ELLX",
           "name": "Luxembourg"
          },
          "quality": [
           "Basic",
           "Live"
          ],
          "scheduledTimeLocal": "2021-11-25 06:45+01:00",
          "scheduledTimeUtc": "2021-11-25 05:45Z"
         },
         "isCargo": false,
         "number": "LG 9471",
         "status": "Unknown"
        },
        {
         "aircraft": {
          "model": "Boeing 737-800"
         },
         "airline": {
          "name": "Ryanair"
         },
         "arrival": {
          "quality": [
           "Basic"
          ],
          "scheduledTimeLocal": "2021-11-25 08:45+01:00",
          "scheduledTimeUtc": "2021-11-25 07:45Z"
         },
         "codeshareStatus": "Unknown",
         "departure": {
          "airport": {
           "iata": "PSA",
           "icao": "LIRP",
           "name": "Pisa"
          },
          "quality": [
           "Basic"
          ],
          "scheduledTimeLocal": "2021-11-25 06:50+01:00",
          "scheduledTimeUtc": "2021-11-25 05:50Z"
         },
         "isCargo": false,
         "number": "FR 9955",
         "status": "Unknown"
        },
        {
         "aircraft": {
          "model": "Airbus A320"
         },
         "airline": {
          "name": "SWISS"
         },
         "arrival": {
          "quality": [
           "Basic"
          ],
          "scheduledTimeLocal": "2021-11-25 08:45+01:00",
          "scheduledTimeUtc": "2021-11-25 07:45Z",
          "terminal": "1"
         },
         "codeshareStatus": "Unknown",
         "departure": {
          "actualTimeLocal": "2021-11-25 07:15+01:00",
          "actualTimeUtc": "2021-11-25 06:15Z",
          "airport": {
           "iata": "ZRH",
           "icao": "LSZH",
           "name": "Zurich"
          },
          "checkInDesk": "1",
          "quality": [
           "Basic",
           "Live"
          ],
          "scheduledTimeLocal": "2021-11-25 07:15+01:00",
          "scheduledTimeUtc": "2021-11-25 06:15Z"
         },
         "isCargo": false,
         "number": "LX 974",
         "status": "Unknown"
        },
        {
         "aircraft": {
          "model": "Airbus A320"
         },
         "airline": {
          "name": "Air France"
         },
         "arrival": {
          "quality": [
           "Basic"
          ],
          "scheduledTimeLocal": "2021-11-25 08:55+01:00",
          "scheduledTimeUtc": "2021-11-25 07:55Z",
          "terminal": "1"
         },
         "codeshareStatus": "Unknown",
         "departure": {
          "airport": {
           "iata": "ORY",
           "icao": "LFPO",
           "name": "Paris"
          },
          "quality": [
           "Basic"
          ],
          "scheduledTimeLocal": "2021-11-25 07:00+01:00",
          "scheduledTimeUtc": "2021-11-25 06:00Z",
          "terminal": "3"
         },
         "isCargo": false,
         "number": "AF 7354",
         "status": "Unknown"
        },
        {
         "aircraft": {
          "model": "Embraer 195"
         },
         "airline": {
          "name": "Austrian"
         },
         "arrival": {
          "quality": [
           "Basic"
          ],
          "scheduledTimeLocal": "2021-11-25 08:55+01:00",
          "scheduledTimeUtc": "2021-11-25 07:55Z",
          "terminal": "1"
         },
         "codeshareStatus": "Unknown",
         "departure": {
          "actualTimeLocal": "2021-11-25 07:40+01:00",
          "actualTimeUtc": "2021-11-25 06:40Z",
          "airport": {
           "iata": "VIE",
           "icao": "LOWW",
           "name": "Vienna"
          },
          "checkInDesk": "351-378",
          "quality": [
           "Basic",
           "Live"
          ],
          "scheduledTimeLocal": "2021-11-25 07:40+01:00",
          "scheduledTimeUtc": "2021-11-25 06:40Z",
          "terminal": "T3"
         },
         "isCargo": false,
         "number": "OS 223",
         "status": "Unknown"
        },
        {
         "aircraft": {
          "model": "Airbus A320",
          "reg": "D-AIZZ"
         },
         "airline": {
          "name": "Lufthansa"
         },
         "arrival": {
          "quality": [
           "Basic"
          ],
          "scheduledTimeLocal": "2021-11-25 08:55+01:00",
          "scheduledTimeUtc": "2021-11-25 07:55Z",
          "terminal": "1"
         },
         "codeshareStatus": "IsCodeshared",
         "departure": {
          "actualTimeLocal": "2021-11-25 07:45+01:00",
          "actualTimeUtc": "2021-11-25 06:45Z",
          "airport": {
           "iata": "FRA",
           "icao": "EDDF",
           "name": "Frankfurt-am-Main"
          },
          "checkInDesk": "263-453",
          "gate": "A16",
          "quality": [
           "Basic",
           "Live"
          ],
          "scheduledTimeLocal": "2021-11-25 07:45+01:00",
          "scheduledTimeUtc": "2021-11-25 06:45Z",
          "terminal": "1"
         },
         "isCargo": false,
         "number": "LH 174",
         "status": "Unknown"
        },
        {
         "aircraft": {
          "model": "Airbus A320"
         },
         "airline": {
          "name": "Air Serbia"
         },
         "arrival": {
          "quality": [
           "Basic"
          ],
          "scheduledTimeLocal": "2021-11-25 09:00+01:00",
          "scheduledTimeUtc": "2021-11-25 08:00Z",
          "terminal": "1"
         },
         "codeshareStatus": "Unknown",
         "departure": {
          "airport": {
           "iata": "BEG",
           "icao": "LYBE",
           "name": "Belgrade"
          },
          "quality": [
           "Basic"
          ],
          "scheduledTimeLocal": "2021-11-25 07:10+01:00",
          "scheduledTimeUtc": "2021-11-25 06:10Z",
          "terminal": "2"
         },
         "isCargo": false,
         "number": "JU 350",
         "status": "Unknown"
        },
        {
         "aircraft": {
          "model": "Boeing 737-800"
         },
         "airline": {
          "name": "Norwegian Air Shuttle"
         },
         "arrival": {
          "quality": [
           "Basic"
          ],
          "scheduledTimeLocal": "2021-11-25 09:10+01:00",
          "scheduledTimeUtc": "2021-11-25 08:10Z",
          "terminal": "1"
         },
         "codeshareStatus": "Unknown",
         "departure": {
          "airport": {
           "iata": "OSL",
           "icao": "ENGM",
           "name": "Oslo"
          },
          "checkInDesk": "23",
          "quality": [
           "Basic"
          ],
          "scheduledTimeLocal": "2021-11-25 07:35+01:00",
          "scheduledTimeUtc": "2021-11-25 06:35Z"
         },
         "isCargo": false,
         "number": "DY 1102",
         "status": "Unknown"
        },
        {
         "aircraft": {
          "model": "Boeing 737-800"
         },
         "airline": {
          "name": "Ryanair"
         },
         "arrival": {
          "quality": [
           "Basic"
          ],
          "scheduledTimeLocal": "2021-11-25 09:25+01:00",
          "scheduledTimeUtc": "2021-11-25 08:25Z"
         },
         "codeshareStatus": "Unknown",
         "departure": {
          "actualTimeLocal": "2021-11-25 06:20+01:00",
          "actualTimeUtc": "2021-11-25 05:20Z",
          "airport": {
           "iata": "MAD",
           "icao": "LEMD",
           "name": "Madrid"
          },
          "quality": [
           "Basic",
           "Live"
          ],
          "scheduledTimeLocal": "2021-11-25 06:20+01:00",
          "scheduledTimeUtc": "2021-11-25 05:20Z",
          "terminal": "1"
         },
         "isCargo": false,
         "number": "FR 2526",
         "status": "Unknown"
        },
        {
         "aircraft": {
          "model": "Boeing 737-700",
          "reg": "PH-BCL"
         },
         "airline": {
          "name": "KLM"
         },
         "arrival": {
          "quality": [
           "Basic"
          ],
          "scheduledTimeLocal": "2021-11-25 09:25+01:00",
          "scheduledTimeUtc": "2021-11-25 08:25Z",
          "terminal": "1"
         },
         "codeshareStatus": "IsOperator",
         "departure": {
          "airport": {
           "iata": "AMS",
           "icao": "EHAM",
           "name": "Amsterdam"
          },
          "checkInDesk": "5-8",
          "quality": [
           "Basic"
          ],
          "scheduledTimeLocal": "2021-11-25 08:05+01:00",
          "scheduledTimeUtc": "2021-11-25 07:05Z",
          "terminal": "1"
         },
         "isCargo": false,
         "number": "KL 1821",
         "status": "Unknown"
        },
        {
         "aircraft": {
          "model": "Boeing 737-800"
         },
         "airline": {
          "name": "Ryanair"
         },
         "arrival": {
          "quality": [
           "Basic"
          ],
          "scheduledTimeLocal": "2021-11-25 09:30+01:00",
          "scheduledTimeUtc": "2021-11-25 08:30Z"
         },
         "codeshareStatus": "Unknown",
         "departure": {
          "actualTimeLocal": "2021-11-25 08:00+01:00",
          "actualTimeUtc": "2021-11-25 07:00Z",
          "airport": {
           "iata": "BUD",
           "icao": "LHBP",
           "name": "Budapest"
          },
          "quality": [
           "Basic",
           "Live"
          ],
          "scheduledTimeLocal": "2021-11-25 08:00+01:00",
          "scheduledTimeUtc": "2021-11-25 07:00Z",
          "terminal": "2B"
         },
         "isCargo": false,
         "number": "FR 197",
         "status": "Unknown"
        },
        {
         "aircraft": {
          "model": "Airbus A330-300"
         },
         "airline": {
          "name": "Turkish"
         },
         "arrival": {
          "quality": [
           "Basic"
          ],
          "scheduledTimeLocal": "2021-11-25 09:35+01:00",
          "scheduledTimeUtc": "2021-11-25 08:35Z",
          "terminal": "1"
         },
         "codeshareStatus": "Unknown",
         "departure": {
          "airport": {
           "iata": "IST",
           "icao": "LTFM",
           "name": "Istanbul"
          },
          "quality": [
           "Basic"
          ],
          "scheduledTimeLocal": "2021-11-25 08:55+03:00",
          "scheduledTimeUtc": "2021-11-25 05:55Z"
         },
         "isCargo": false,
         "number": "TK 1721",
         "status": "Unknown"
        },
        {
         "aircraft": {
          "model": "Airbus A320"
         },
         "airline": {
          "name": "Eurowings"
         },
         "arrival": {
          "quality": [
           "Basic"
          ],
          "scheduledTimeLocal": "2021-11-25 09:40+01:00",
          "scheduledTimeUtc": "2021-11-25 08:40Z",
          "terminal": "1"
         },
         "codeshareStatus": "Unknown",
         "departure": {
          "airport": {
           "iata": "CGN",
           "icao": "EDDK",
           "name": "Cologne"
          },
          "quality": [
           "Basic"
          ],
          "scheduledTimeLocal": "2021-11-25 08:30+01:00",
          "scheduledTimeUtc": "2021-11-25 07:30Z",
          "terminal": "1"
         },
         "isCargo": false,
         "number": "EW 8059",
         "status": "Unknown"
        },
        {
         "aircraft": {
          "model": "Airbus A320"
         },
         "airline": {
          "name": "Lufthansa"
         },
         "arrival": {
          "quality": [
           "Basic"
          ],
          "scheduledTimeLocal": "2021-11-25 09:40+01:00",
          "scheduledTimeUtc": "2021-11-25 08:40Z",
          "terminal": "1"
         },
         "codeshareStatus": "IsCodeshared",
         "departure": {
          "airport": {
           "iata": "MUC",
           "icao": "EDDM",
           "name": "Munich"
          },
          "quality": [
           "Basic"
          ],
          "scheduledTimeLocal": "2021-11-25 08:30+01:00",
          "scheduledTimeUtc": "2021-11-25 07:30Z",
          "terminal": "2"
         },
         "isCargo": false,
         "number": "LH 1930",
         "status": "Unknown"
        },
        {
         "aircraft": {
          "model": "Boeing 737-800"
         },
         "airline": {
          "name": "Ryanair"
         },
         "arrival": {
          "quality": [
           "Basic"
          ],
          "scheduledTimeLocal": "2021-11-25 09:45+01:00",
          "scheduledTimeUtc": "2021-11-25 08:45Z"
         },
         "codeshareStatus": "Unknown",
         "departure": {
          "actualTimeLocal": "2021-11-25 09:05+02:00",
          "actualTimeUtc": "2021-11-25 07:05Z",
          "airport": {
           "iata": "RIX",
           "icao": "EVRA",
           "name": "Riga"
          },
          "quality": [
           "Basic",
           "Live"
          ],
          "scheduledTimeLocal": "2021-11-25 09:05+02:00",
          "scheduledTimeUtc": "2021-11-25 07:05Z"
         },
         "isCargo": false,
         "number": "FR 2600",
         "status": "Unknown"
        },
        {
         "aircraft": {
          "model": "Airbus A319"
         },
         "airline": {
          "name": "easyJet"
         },
         "arrival": {
          "quality": [
           "Basic"
          ],
          "scheduledTimeLocal": "2021-11-25 09:45+01:00",
          "scheduledTimeUtc": "2021-11-25 08:45Z",
          "terminal": "1"
         },
         "codeshareStatus": "Unknown",
         "departure": {
          "airport": {
           "iata": "AAR",
           "icao": "EKAH",
           "name": "Aarhus"
          },
          "quality": [
           "Basic"
          ],
          "scheduledTimeLocal": "2021-11-25 08:40+01:00",
          "scheduledTimeUtc": "2021-11-25 07:40Z"
         },
         "isCargo": false,
         "number": "U2 5698",
         "status": "Unknown"
        },
        {
         "aircraft": {
          "model": "Airbus A320"
         },
         "airline": {
          "name": "easyJet"
         },
         "arrival": {
          "quality": [
           "Basic"
          ],
          "scheduledTimeLocal": "2021-11-25 09:55+01:00",
          "scheduledTimeUtc": "2021-11-25 08:55Z",
          "terminal": "1"
         },
         "codeshareStatus": "Unknown",
         "departure": {
          "airport": {
           "iata": "CPH",
           "icao": "EKCH",
           "name": "Copenhagen"
          },
          "quality": [
           "Basic"
          ],
          "scheduledTimeLocal": "2021-11-25 08:50+01:00",
          "scheduledTimeUtc": "2021-11-25 07:50Z",
          "terminal": "2"
         },
         "isCargo": false,
         "number": "U2 5684",
         "status": "Unknown"
        },
        {
         "aircraft": {
          "model": "Airbus A320",
          "reg": "D-AIUD"
         },
         "airline": {
          "name": "Lufthansa"
         },
         "arrival": {
          "quality": [
           "Basic"
          ],
          "scheduledTimeLocal": "2021-11-25 09:55+01:00",
          "scheduledTimeUtc": "2021-11-25 08:55Z",
          "terminal": "1"
         },
         "codeshareStatus": "IsCodeshared",
         "departure": {
          "actualTimeLocal": "2021-11-25 08:45+01:00",
          "actualTimeUtc": "2021-11-25 07:45Z",
          "airport": {
           "iata": "FRA",
           "icao": "EDDF",
           "name": "Frankfurt-am-Main"
          },
          "checkInDesk": "263-453",
          "gate": "A21",
          "quality": [
           "Basic",
           "Live"
          ],
          "scheduledTimeLocal": "2021-11-25 08:45+01:00",
          "scheduledTimeUtc": "2021-11-25 07:45Z",
          "terminal": "1"
         },
         "isCargo": false,
         "number": "LH 176",
         "status": "Unknown"
        },
        {
         "aircraft": {
          "model": "Boeing 787-8"
         },
         "airline": {
          "name": "Scoot"
         },
         "arrival": {
          "quality": [
           "Basic"
          ],
          "scheduledTimeLocal": "2021-11-25 10:20+01:00",
          "scheduledTimeUtc": "2021-11-25 09:20Z",
          "terminal": "1"
         },
         "codeshareStatus": "Unknown",
         "departure": {
          "actualTimeLocal": "2021-11-25 08:20+02:00",
          "actualTimeUtc": "2021-11-25 06:20Z",
          "airport": {
           "iata": "ATH",
           "icao": "LGAV",
           "name": "Athens"
          },
          "checkInDesk": "153--157",
          "quality": [
           "Basic",
           "Live"
          ],
          "scheduledTimeLocal": "2021-11-25 08:20+02:00",
          "scheduledTimeUtc": "2021-11-25 06:20Z",
          "terminal": "I"
         },
         "isCargo": false,
         "number": "TR 722",
         "status": "Unknown"
        },
        {
         "aircraft": {
          "model": "Airbus A320"
         },
         "airline": {
          "name": "Austrian"
         },
         "arrival": {
          "quality": [
           "Basic"
          ],
          "scheduledTimeLocal": "2021-11-25 10:25+01:00",
          "scheduledTimeUtc": "2021-11-25 09:25Z",
          "terminal": "1"
         },
         "codeshareStatus": "Unknown",
         "departure": {
          "airport": {
           "iata": "VIE",
           "icao": "LOWW",
           "name": "Vienna"
          },
          "quality": [
           "Basic"
          ],
          "scheduledTimeLocal": "2021-11-25 09:10+01:00",
          "scheduledTimeUtc": "2021-11-25 08:10Z",
          "terminal": "3"
         },
         "isCargo": false,
         "number": "OS 225",
         "status": "Unknown"
        },
        {
         "aircraft": {
          "model": "Embraer 190"
         },
         "airline": {
          "name": "British Airways"
         },
         "arrival": {
          "quality": [
           "Basic"
          ],
          "scheduledTimeLocal": "2021-11-25 10:25+01:00",
          "scheduledTimeUtc": "2021-11-25 09:25Z",
          "terminal": "1"
         },
         "codeshareStatus": "IsCodeshared",
         "departure": {
          "airport": {
           "iata": "LCY",
           "icao": "EGLC",
           "name": "London"
          },
          "quality": [
           "Basic"
          ],
          "scheduledTimeLocal": "2021-11-25 07:45+00:00",
          "scheduledTimeUtc": "2021-11-25 07:45Z"
         },
         "isCargo": false,
         "number": "BA 8491",
         "status": "Unknown"
        },
        {
         "aircraft": {
          "model": "Airbus A320",
          "reg": "OY-KAS"
         },
         "airline": {
          "name": "SAS"
         },
         "arrival": {
          "quality": [
           "Basic"
          ],
          "scheduledTimeLocal": "2021-11-25 10:30+01:00",
          "scheduledTimeUtc": "2021-11-25 09:30Z",
          "terminal": "1"
         },
         "codeshareStatus": "Unknown",
         "departure": {
          "actualTimeLocal": "2021-11-25 08:55+01:00",
          "actualTimeUtc": "2021-11-25 07:55Z",
          "airport": {
           "iata": "ARN",
           "icao": "ESSA",
           "name": "Stockholm"
          },
          "checkInDesk": "75-90",
          "quality": [
           "Basic",
           "Live"
          ],
          "scheduledTimeLocal": "2021-11-25 08:55+01:00",
          "scheduledTimeUtc": "2021-11-25 07:55Z",
          "terminal": "T5"
         },
         "isCargo": false,
         "number": "SK 2677",
         "status": "Unknown"
        },
        {
         "aircraft": {
          "model": "Boeing 737-800"
         },
         "airline": {
          "name": "Ryanair"
         },
         "arrival": {
          "quality": [
           "Basic"
          ],
          "scheduledTimeLocal": "2021-11-25 10:40+01:00",
          "scheduledTimeUtc": "2021-11-25 09:40Z"
         },
         "codeshareStatus": "Unknown",
         "departure": {
          "airport": {
           "iata": "STN",
           "icao": "EGSS",
           "name": "London"
          },
          "quality": [
           "Basic"
          ],
          "scheduledTimeLocal": "2021-11-25 07:50+00:00",
          "scheduledTimeUtc": "2021-11-25 07:50Z"
         },
         "isCargo": false,
         "number": "FR 145",
         "status": "Unknown"
        },
        {
         "aircraft": {
          "model": "Boeing 737-800"
         },
         "airline": {
          "name": "Ryanair"
         },
         "arrival": {
          "quality": [
           "Basic"
          ],
          "scheduledTimeLocal": "2021-11-25 10:40+01:00",
          "scheduledTimeUtc": "2021-11-25 09:40Z"
         },
         "codeshareStatus": "Unknown",
         "departure": {
          "airport": {
           "iata": "BGY",
           "icao": "LIME",
           "name": "Bergamo"
          },
          "quality": [
           "Basic"
          ],
          "scheduledTimeLocal": "2021-11-25 08:55+01:00",
          "scheduledTimeUtc": "2021-11-25 07:55Z"
         },
         "isCargo": false,
         "number": "FR 4731",
         "status": "Unknown"
        },
        {
         "aircraft": {
          "model": "Airbus A320"
         },
         "airline": {
          "name": "Aegean"
         },
         "arrival": {
          "quality": [
           "Basic"
          ],
          "scheduledTimeLocal": "2021-11-25 10:50+01:00",
          "scheduledTimeUtc": "2021-11-25 09:50Z",
          "terminal": "1"
         },
         "codeshareStatus": "Unknown",
         "departure": {
          "actualTimeLocal": "2021-11-25 08:55+02:00",
          "actualTimeUtc": "2021-11-25 06:55Z",
          "airport": {
           "iata": "ATH",
           "icao": "LGAV",
           "name": "Athens"
          },
          "checkInDesk": "47---48",
          "quality": [
           "Basic",
           "Live"
          ],
          "scheduledTimeLocal": "2021-11-25 08:55+02:00",
          "scheduledTimeUtc": "2021-11-25 06:55Z",
          "terminal": "D"
         },
         "isCargo": false,
         "number": "A3 820",
         "status": "Unknown"
        },
        {
         "aircraft": {
          "model": "Airbus A320"
         },
         "airline": {
          "name": "Pegasus"
         },
         "arrival": {
          "quality": [
           "Basic"
          ],
          "scheduledTimeLocal": "2021-11-25 11:00+01:00",
          "scheduledTimeUtc": "2021-11-25 10:00Z",
          "terminal": "0"
         },
         "codeshareStatus": "Unknown",
         "departure": {
          "airport": {
           "iata": "SAW",
           "icao": "LTFJ",
           "name": "Istanbul"
          },
          "quality": [
           "Basic"
          ],
          "scheduledTimeLocal": "2021-11-25 09:55+03:00",
          "scheduledTimeUtc": "2021-11-25 06:55Z"
         },
         "isCargo": false,
         "number": "PC 977",
         "status": "Unknown"
        },
        {
         "aircraft": {
          "model": "Boeing 737-800"
         },
         "airline": {
          "name": "Ryanair"
         },
         "arrival": {
          "quality": [
           "Basic"
          ],
          "scheduledTimeLocal": "2021-11-25 11:05+01:00",
          "scheduledTimeUtc": "2021-11-25 10:05Z"
         },
         "codeshareStatus": "Unknown",
         "departure": {
          "airport": {
           "iata": "CIA",
           "icao": "LIRA",
           "name": "Roma"
          },
          "quality": [
           "Basic"
          ],
          "scheduledTimeLocal": "2021-11-25 08:55+01:00",
          "scheduledTimeUtc": "2021-11-25 07:55Z"
         },
         "isCargo": false,
         "number": "FR 135",
         "status": "Unknown"
        },
        {
         "aircraft": {
          "model": "Airbus A320"
         },
         "airline": {
          "name": "Iberia"
         },
         "arrival": {
          "quality": [
           "Basic"
          ],
          "scheduledTimeLocal": "2021-11-25 11:05+01:00",
          "scheduledTimeUtc": "2021-11-25 10:05Z",
          "terminal": "1"
         },
         "codeshareStatus": "Unknown",
         "departure": {
          "actualTimeLocal": "2021-11-25 08:05+01:00",
          "actualTimeUtc": "2021-11-25 07:05Z",
          "airport": {
           "iata": "MAD",
           "icao": "LEMD",
           "name": "Madrid"
          },
          "quality": [
           "Basic",
           "Live"
          ],
          "scheduledTimeLocal": "2021-11-25 08:05+01:00",
          "scheduledTimeUtc": "2021-11-25 07:05Z",
          "terminal": "4"
         },
         "isCargo": false,
         "number": "IB 3676",
         "status": "Unknown"
        },
        {
         "aircraft": {
          "model": "Boeing 737-900",
          "reg": "PH-BCB"
         },
         "airline": {
          "name": "KLM"
         },
         "arrival": {
          "quality": [
           "Basic"
          ],
          "scheduledTimeLocal": "2021-11-25 11:05+01:00",
          "scheduledTimeUtc": "2021-11-25 10:05Z",
          "terminal": "1"
         },
         "codeshareStatus": "IsOperator",
         "departure": {
          "airport": {
           "iata": "AMS",
           "icao": "EHAM",
           "name": "Amsterdam"
          },
          "checkInDesk": "5-8",
          "quality": [
           "Basic"
          ],
          "scheduledTimeLocal": "2021-11-25 09:45+01:00",
          "scheduledTimeUtc": "2021-11-25 08:45Z",
          "terminal": "1"
         },
         "isCargo": false,
         "number": "KL 1823",
         "status": "Unknown"
        },
        {
         "aircraft": {
          "model": "Airbus A319"
         },
         "airline": {
          "name": "Brussels"
         },
         "arrival": {
          "quality": [
           "Basic"
          ],
          "scheduledTimeLocal": "2021-11-25 11:15+01:00",
          "scheduledTimeUtc": "2021-11-25 10:15Z",
          "terminal": "1"
         },
         "codeshareStatus": "Unknown",
         "departure": {
          "actualTimeLocal": "2021-11-25 09:45+01:00",
          "actualTimeUtc": "2021-11-25 08:45Z",
          "airport": {
           "iata": "BRU",
           "icao": "EBBR",
           "name": "Brussels"
          },
          "checkInDesk": "02",
          "quality": [
           "Basic",
           "Live"
          ],
          "scheduledTimeLocal": "2021-11-25 09:45+01:00",
          "scheduledTimeUtc": "2021-11-25 08:45Z"
         },
         "isCargo": false,
         "number": "SN 2581",
         "status": "Unknown"
        },
        {
         "aircraft": {
          "model": "Airbus A320"
         },
         "airline": {
          "name": "easyJet"
         },
         "arrival": {
          "quality": [
           "Basic"
          ],
          "scheduledTimeLocal": "2021-11-25 11:25+01:00",
          "scheduledTimeUtc": "2021-11-25 10:25Z",
          "terminal": "1"
         },
         "codeshareStatus": "Unknown",
         "departure": {
          "airport": {
           "iata": "MXP",
           "icao": "LIMC",
           "name": "Milan"
          },
          "quality": [
           "Basic"
          ],
          "scheduledTimeLocal": "2021-11-25 09:35+01:00",
          "scheduledTimeUtc": "2021-11-25 08:35Z",
          "terminal": "1"
         },
         "isCargo": false,
         "number": "U2 4672",
         "status": "Unknown"
        },
        {
         "aircraft": {
          "model": "Bombardier Dash 8 Q400 / DHC-8-400"
         },
         "airline": {
          "name": "LOT - Polish"
         },
         "arrival": {
          "quality": [
           "Basic"
          ],
          "scheduledTimeLocal": "2021-11-25 11:35+01:00",
          "scheduledTimeUtc": "2021-11-25 10:35Z",
          "terminal": "1"
         },
         "codeshareStatus": "Unknown",
         "departure": {
          "actualTimeLocal": "2021-11-25 10:10+01:00",
          "actualTimeUtc": "2021-11-25 09:10Z",
          "airport": {
           "iata": "WAW",
           "icao": "EPWA",
           "name": "Warsaw"
          },
          "checkInDesk": "241-280",
          "quality": [
           "Basic",
           "Live"
          ],
          "scheduledTimeLocal": "2021-11-25 10:10+01:00",
          "scheduledTimeUtc": "2021-11-25 09:10Z",
          "terminal": "E-D"
         },
         "isCargo": false,
         "number": "LO 385",
         "status": "Unknown"
        },
        {
         "aircraft": {
          "model": "Airbus A320"
         },
         "airline": {
          "name": "easyJet"
         },
         "arrival": {
          "quality": [
           "Basic"
          ],
          "scheduledTimeLocal": "2021-11-25 11:35+01:00",
          "scheduledTimeUtc": "2021-11-25 10:35Z",
          "terminal": "1"
         },
         "codeshareStatus": "Unknown",
         "departure": {
          "airport": {
           "iata": "CDG",
           "icao": "LFPG",
           "name": "Paris"
          },
          "quality": [
           "Basic"
          ],
          "scheduledTimeLocal": "2021-11-25 09:45+01:00",
          "scheduledTimeUtc": "2021-11-25 08:45Z",
          "terminal": "2D"
         },
         "isCargo": false,
         "number": "U2 5652",
         "status": "Unknown"
        },
        {
         "aircraft": {
          "model": "Airbus A319"
         },
         "airline": {
          "name": "Air France"
         },
         "arrival": {
          "quality": [
           "Basic"
          ],
          "scheduledTimeLocal": "2021-11-25 11:40+01:00",
          "scheduledTimeUtc": "2021-11-25 10:40Z",
          "terminal": "1"
         },
         "codeshareStatus": "Unknown",
         "departure": {
          "airport": {
           "iata": "CDG",
           "icao": "LFPG",
           "name": "Paris"
          },
          "quality": [
           "Basic"
          ],
          "scheduledTimeLocal": "2021-11-25 09:55+01:00",
          "scheduledTimeUtc": "2021-11-25 08:55Z",
          "terminal": "2F"
         },
         "isCargo": false,
         "number": "AF 1734",
         "status": "Unknown"
        },
        {
         "aircraft": {
          "model": "Airbus A320"
         },
         "airline": {
          "name": "British Airways"
         },
         "arrival": {
          "quality": [
           "Basic"
          ],
          "scheduledTimeLocal": "2021-11-25 11:40+01:00",
          "scheduledTimeUtc": "2021-11-25 10:40Z",
          "terminal": "1"
         },
         "codeshareStatus": "IsCodeshared",
         "departure": {
          "actualTimeLocal": "2021-11-25 08:45+00:00",
          "actualTimeUtc": "2021-11-25 08:45Z",
          "airport": {
           "iata": "LHR",
           "icao": "EGLL",
           "name": "London"
          },
          "checkInDesk": "G",
          "quality": [
           "Basic",
           "Live"
          ],
          "scheduledTimeLocal": "2021-11-25 08:45+00:00",
          "scheduledTimeUtc": "2021-11-25 08:45Z",
          "terminal": "5"
         },
         "isCargo": false,
         "number": "BA 992",
         "status": "Unknown"
        },
        {
         "aircraft": {
          "model": "Boeing 737-800"
         },
         "airline": {
          "name": "Norwegian Air International"
         },
         "arrival": {
          "quality": [
           "Basic"
          ],
          "scheduledTimeLocal": "2021-11-25 11:45+01:00",
          "scheduledTimeUtc": "2021-11-25 10:45Z",
          "terminal": "1"
         },
         "codeshareStatus": "Unknown",
         "departure": {
          "airport": {
           "iata": "CPH",
           "icao": "EKCH",
           "name": "Copenhagen"
          },
          "quality": [
           "Basic"
          ],
          "scheduledTimeLocal": "2021-11-25 10:45+01:00",
          "scheduledTimeUtc": "2021-11-25 09:45Z",
          "terminal": "2"
         },
         "isCargo": false,
         "number": "D8 3302",
         "status": "Unknown"
        },
        {
         "aircraft": {
          "model": "Boeing 737-800"
         },
         "airline": {
          "name": "Ryanair"
         },
         "arrival": {
          "quality": [
           "Basic"
          ],
          "scheduledTimeLocal": "2021-11-25 11:45+01:00",
          "scheduledTimeUtc": "2021-11-25 10:45Z"
         },
         "codeshareStatus": "Unknown",
         "departure": {
          "airport": {
           "iata": "SOF",
           "icao": "LBSF",
           "name": "Sofia"
          },
          "quality": [
           "Basic"
          ],
          "scheduledTimeLocal": "2021-11-25 10:25+02:00",
          "scheduledTimeUtc": "2021-11-25 08:25Z"
         },
         "isCargo": false,
         "number": "FR 1595",
         "status": "Unknown"
        },
        {
         "aircraft": {
          "model": "Boeing 737-800"
         },
         "airline": {
          "name": "Jet2"
         },
         "arrival": {
          "quality": [
           "Basic"
          ],
          "scheduledTimeLocal": "2021-11-25 11:50+01:00",
          "scheduledTimeUtc": "2021-11-25 10:50Z",
          "terminal": "0"
         },
         "codeshareStatus": "Unknown",
         "departure": {
          "airport": {
           "iata": "NCL",
           "icao": "EGNT",
           "name": "Newcastle upon Tyne"
          },
          "quality": [
           "Basic"
          ],
          "scheduledTimeLocal": "2021-11-25 08:50+00:00",
          "scheduledTimeUtc": "2021-11-25 08:50Z"
         },
         "isCargo": false,
         "number": "LS 4067",
         "status": "Unknown"
        },
        {
         "aircraft": {
          "model": "Airbus A320"
         },
         "airline": {
          "name": "easyJet"
         },
         "arrival": {
          "quality": [
           "Basic"
          ],
          "scheduledTimeLocal": "2021-11-25 11:55+01:00",
          "scheduledTimeUtc": "2021-11-25 10:55Z",
          "terminal": "1"
         },
         "codeshareStatus": "Unknown",
         "departure": {
          "airport": {
           "iata": "LGW",
           "icao": "EGKK",
           "name": "London"
          },
          "quality": [
           "Basic"
          ],
          "scheduledTimeLocal": "2021-11-25 08:55+00:00",
          "scheduledTimeUtc": "2021-11-25 08:55Z",
          "terminal": "N"
         },
         "isCargo": false,
         "number": "U2 8209",
         "status": "Unknown"
        },
        {
         "aircraft": {
          "model": "Airbus A320",
          "reg": "D-AIUZ"
         },
         "airline": {
          "name": "Lufthansa"
         },
         "arrival": {
          "quality": [
           "Basic"
          ],
          "scheduledTimeLocal": "2021-11-25 11:55+01:00",
          "scheduledTimeUtc": "2021-11-25 10:55Z",
          "terminal": "1"
         },
         "codeshareStatus": "IsCodeshared",
         "departure": {
          "actualTimeLocal": "2021-11-25 10:45+01:00",
          "actualTimeUtc": "2021-11-25 09:45Z",
          "airport": {
           "iata": "FRA",
           "icao": "EDDF",
           "name": "Frankfurt-am-Main"
          },
          "checkInDesk": "263-453",
          "gate": "A11",
          "quality": [
           "Basic",
           "Live"
          ],
          "scheduledTimeLocal": "2021-11-25 10:45+01:00",
          "scheduledTimeUtc": "2021-11-25 09:45Z",
          "terminal": "1"
         },
         "isCargo": false,
         "number": "LH 180",
         "status": "Unknown"
        },
        {
         "aircraft": {
          "model": "Airbus A319",
          "reg": "D-ABHC"
         },
         "airline": {
          "name": "Eurowings"
         },
         "arrival": {
          "quality": [
           "Basic"
          ],
          "scheduledTimeLocal": "2021-11-25 12:00+01:00",
          "scheduledTimeUtc": "2021-11-25 11:00Z",
          "terminal": "1"
         },
         "codeshareStatus": "Unknown",
         "departure": {
          "actualTimeLocal": "2021-11-25 10:45+01:00",
          "actualTimeUtc": "2021-11-25 09:45Z",
          "airport": {
           "iata": "DUS",
           "icao": "EDDL",
           "name": "Duesseldorf"
          },
          "checkInDesk": "153,170",
          "gate": "A39",
          "quality": [
           "Basic",
           "Live"
          ],
          "scheduledTimeLocal": "2021-11-25 10:45+01:00",
          "scheduledTimeUtc": "2021-11-25 09:45Z",
          "terminal": "B"
         },
         "isCargo": false,
         "number": "EW 9046",
         "status": "Unknown"
        },
        {
         "aircraft": {
          "model": "Boeing 737-800"
         },
         "airline": {
          "name": "Jet2"
         },
         "arrival": {
          "quality": [
           "Basic"
          ],
          "scheduledTimeLocal": "2021-11-25 12:05+01:00",
          "scheduledTimeUtc": "2021-11-25 11:05Z",
          "terminal": "0"
         },
         "codeshareStatus": "Unknown",
         "departure": {
          "airport": {
           "iata": "LBA",
           "icao": "EGNM",
           "name": "Leeds"
          },
          "quality": [
           "Basic"
          ],
          "scheduledTimeLocal": "2021-11-25 09:00+00:00",
          "scheduledTimeUtc": "2021-11-25 09:00Z"
         },
         "isCargo": false,
         "number": "LS 471",
         "status": "Unknown"
        },
        {
         "aircraft": {
          "model": "Boeing 737-800"
         },
         "airline": {
          "name": "UIA"
         },
         "arrival": {
          "quality": [
           "Basic"
          ],
          "scheduledTimeLocal": "2021-11-25 12:05+01:00",
          "scheduledTimeUtc": "2021-11-25 11:05Z",
          "terminal": "1"
         },
         "codeshareStatus": "Unknown",
         "departure": {
          "actualTimeLocal": "2021-11-25 10:55+02:00",
          "actualTimeUtc": "2021-11-25 08:55Z",
          "airport": {
           "iata": "KBP",
           "icao": "UKBB",
           "name": "Kiev"
          },
          "quality": [
           "Basic",
           "Live"
          ],
          "scheduledTimeLocal": "2021-11-25 10:55+02:00",
          "scheduledTimeUtc": "2021-11-25 08:55Z",
          "terminal": "D"
         },
         "isCargo": false,
         "number": "PS 423",
         "status": "Unknown"
        },
        {
         "aircraft": {
          "model": "Boeing 757-300"
         },
         "airline": {
          "name": "Icelandair"
         },
         "arrival": {
          "quality": [
           "Basic"
          ],
          "scheduledTimeLocal": "2021-11-25 12:10+01:00",
          "scheduledTimeUtc": "2021-11-25 11:10Z",
          "terminal": "1"
         },
         "codeshareStatus": "Unknown",
         "departure": {
          "airport": {
           "iata": "KEF",
           "icao": "BIKF",
           "name": "Reykjavik"
          },
          "quality": [
           "Basic"
          ],
          "scheduledTimeLocal": "2021-11-25 07:40+00:00",
          "scheduledTimeUtc": "2021-11-25 07:40Z"
         },
         "isCargo": false,
         "number": "FI 528",
         "status": "Unknown"
        },
        {
         "aircraft": {
          "model": "Airbus A320"
         },
         "airline": {
          "name": "Wizz Air"
         },
         "arrival": {
          "quality": [
           "Basic"
          ],
          "scheduledTimeLocal": "2021-11-25 12:15+01:00",
          "scheduledTimeUtc": "2021-11-25 11:15Z",
          "terminal": "0"
         },
         "codeshareStatus": "Unknown",
         "departure": {
          "actualTimeLocal": "2021-11-25 10:45+01:00",
          "actualTimeUtc": "2021-11-25 09:45Z",
          "airport": {
           "iata": "BUD",
           "icao": "LHBP",
           "name": "Budapest"
          },
          "quality": [
           "Basic",
           "Live"
          ],
          "scheduledTimeLocal": "2021-11-25 10:45+01:00",
          "scheduledTimeUtc": "2021-11-25 09:45Z",
          "terminal": "2B"
         },
         "isCargo": false,
         "number": "W6 2315",
         "status": "Unknown"
        },
        {
         "aircraft": {
          "model": "Airbus A320 NEO"
         },
         "airline": {
          "name": "Lufthansa"
         },
         "arrival": {
          "quality": [
           "Basic"
          ],
          "scheduledTimeLocal": "2021-11-25 12:15+01:00",
          "scheduledTimeUtc": "2021-11-25 11:15Z",
          "terminal": "1"
         },
         "codeshareStatus": "IsCodeshared",
         "departure": {
          "airport": {
           "iata": "MUC",
           "icao": "EDDM",
           "name": "Munich"
          },
          "quality": [
           "Basic"
          ],
          "scheduledTimeLocal": "2021-11-25 11:05+01:00",
          "scheduledTimeUtc": "2021-11-25 10:05Z",
          "terminal": "2"
         },
         "isCargo": false,
         "number": "LH 1936",
         "status": "Unknown"
        },
        {
         "aircraft": {
          "model": "Boeing 737-800"
         },
         "airline": {
          "name": "Ryanair"
         },
         "arrival": {
          "quality": [
           "Basic"
          ],
          "scheduledTimeLocal": "2021-11-25 12:25+01:00",
          "scheduledTimeUtc": "2021-11-25 11:25Z"
         },
         "codeshareStatus": "Unknown",
         "departure": {
          "airport": {
           "iata": "TGD",
           "icao": "LYPG",
           "name": "Podgorica"
          },
          "quality": [
           "Basic"
          ],
          "scheduledTimeLocal": "2021-11-25 10:15+01:00",
          "scheduledTimeUtc": "2021-11-25 09:15Z"
         },
         "isCargo": false,
         "number": "FR 1579",
         "status": "Unknown"
        },
        {
         "aircraft": {
          "model": "Boeing 737-800"
         },
         "airline": {
          "name": "Ryanair"
         },
         "arrival": {
          "quality": [
           "Basic"
          ],
          "scheduledTimeLocal": "2021-11-25 12:30+01:00",
          "scheduledTimeUtc": "2021-11-25 11:30Z"
         },
         "codeshareStatus": "Unknown",
         "departure": {
          "airport": {
           "iata": "PMI",
           "icao": "LEPA",
           "name": "Palma De Mallorca"
          },
          "quality": [
           "Basic"
          ],
          "scheduledTimeLocal": "2021-11-25 09:35+01:00",
          "scheduledTimeUtc": "2021-11-25 08:35Z"
         },
         "isCargo": false,
         "number": "FR 2146",
         "status": "Unknown"
        },
        {
         "aircraft": {
          "model": "Boeing 737-800"
         },
         "airline": {
          "name": "Turkish"
         },
         "arrival": {
          "quality": [
           "Basic"
          ],
          "scheduledTimeLocal": "2021-11-25 12:30+01:00",
          "scheduledTimeUtc": "2021-11-25 11:30Z",
          "terminal": "1"
         },
         "codeshareStatus": "Unknown",
         "departure": {
          "airport": {
           "iata": "SAW",
           "icao": "LTFJ",
           "name": "Istanbul"
          },
          "quality": [
           "Basic"
          ],
          "scheduledTimeLocal": "2021-11-25 11:30+03:00",
          "scheduledTimeUtc": "2021-11-25 08:30Z"
         },
         "isCargo": false,
         "number": "TK 7728",
         "status": "Unknown"
        },
        {
         "aircraft": {
          "model": "Boeing 737-800"
         },
         "airline": {
          "name": "SunExpress"
         },
         "arrival": {
          "quality": [
           "Basic"
          ],
          "scheduledTimeLocal": "2021-11-25 12:35+01:00",
          "scheduledTimeUtc": "2021-11-25 11:35Z",
          "terminal": "1"
         },
         "codeshareStatus": "Unknown",
         "departure": {
          "actualTimeLocal": "2021-11-25 11:00+03:00",
          "actualTimeUtc": "2021-11-25 08:00Z",
          "airport": {
           "iata": "AYT",
           "icao": "LTAI",
           "name": "Antalya"
          },
          "quality": [
           "Basic",
           "Live"
          ],
          "scheduledTimeLocal": "2021-11-25 11:00+03:00",
          "scheduledTimeUtc": "2021-11-25 08:00Z",
          "terminal": "1"
         },
         "isCargo": false,
         "number": "XQ 160",
         "status": "Unknown"
        },
        {
         "aircraft": {
          "model": "Boeing 787-8"
         },
         "airline": {
          "name": "Qatar Airways"
         },
         "arrival": {
          "quality": [
           "Basic"
          ],
          "scheduledTimeLocal": "2021-11-25 12:40+01:00",
          "scheduledTimeUtc": "2021-11-25 11:40Z",
          "terminal": "1"
         },
         "codeshareStatus": "Unknown",
         "departure": {
          "airport": {
           "iata": "DOH",
           "icao": "OTHH",
           "name": "Doha"
          },
          "quality": [
           "Basic"
          ],
          "scheduledTimeLocal": "2021-11-25 08:20+03:00",
          "scheduledTimeUtc": "2021-11-25 05:20Z"
         },
         "isCargo": false,
         "number": "QR 81",
         "status": "Unknown"
        },
        {
         "aircraft": {
          "model": "Boeing 737-800"
         },
         "airline": {
          "name": "Ryanair"
         },
         "arrival": {
          "quality": [
           "Basic"
          ],
          "scheduledTimeLocal": "2021-11-25 12:45+01:00",
          "scheduledTimeUtc": "2021-11-25 11:45Z"
         },
         "codeshareStatus": "Unknown",
         "departure": {
          "airport": {
           "iata": "ATH",
           "icao": "LGAV",
           "name": "Athens"
          },
          "quality": [
           "Basic"
          ],
          "scheduledTimeLocal": "2021-11-25 10:45+02:00",
          "scheduledTimeUtc": "2021-11-25 08:45Z"
         },
         "isCargo": false,
         "number": "FR 171",
         "status": "Unknown"
        },
        {
         "aircraft": {
          "model": "Airbus A320 NEO"
         },
         "airline": {
          "name": "SAS"
         },
         "arrival": {
          "quality": [
           "Basic"
          ],
          "scheduledTimeLocal": "2021-11-25 12:55+01:00",
          "scheduledTimeUtc": "2021-11-25 11:55Z",
          "terminal": "1"
         },
         "codeshareStatus": "Unknown",
         "departure": {
          "airport": {
           "iata": "OSL",
           "icao": "ENGM",
           "name": "Oslo"
          },
          "checkInDesk": "23",
          "quality": [
           "Basic"
          ],
          "scheduledTimeLocal": "2021-11-25 11:15+01:00",
          "scheduledTimeUtc": "2021-11-25 10:15Z"
         },
         "isCargo": false,
         "number": "SK 4723",
         "status": "Unknown"
        },
        {
         "aircraft": {
          "model": "Boeing 737-800"
         },
         "airline": {
          "name": "Aeroflot"
         },
         "arrival": {
          "quality": [
           "Basic"
          ],
          "scheduledTimeLocal": "2021-11-25 12:55+01:00",
          "scheduledTimeUtc": "2021-11-25 11:55Z",
          "terminal": "1"
         },
         "codeshareStatus": "IsOperator",
         "departure": {
          "actualTimeLocal": "2021-11-25 12:00+03:00",
          "actualTimeUtc": "2021-11-25 09:00Z",
          "airport": {
           "iata": "SVO",
           "icao": "UUEE",
           "name": "Moscow"
          },
          "quality": [
           "Basic",
           "Live"
          ],
          "scheduledTimeLocal": "2021-11-25 12:00+03:00",
          "scheduledTimeUtc": "2021-11-25 09:00Z",
          "terminal": "C"
         },
         "isCargo": false,
         "number": "SU 2662",
         "status": "Unknown"
        },
        {
         "aircraft": {
          "model": "Airbus A320",
          "reg": "D-AIUL"
         },
         "airline": {
          "name": "Lufthansa"
         },
         "arrival": {
          "quality": [
           "Basic"
          ],
          "scheduledTimeLocal": "2021-11-25 12:55+01:00",
          "scheduledTimeUtc": "2021-11-25 11:55Z",
          "terminal": "1"
         },
         "codeshareStatus": "IsCodeshared",
         "departure": {
          "actualTimeLocal": "2021-11-25 11:45+01:00",
          "actualTimeUtc": "2021-11-25 10:45Z",
          "airport": {
           "iata": "FRA",
           "icao": "EDDF",
           "name": "Frankfurt-am-Main"
          },
          "checkInDesk": "263-453",
          "gate": "A",
          "quality": [
           "Basic",
           "Live"
          ],
          "scheduledTimeLocal": "2021-11-25 11:45+01:00",
          "scheduledTimeUtc": "2021-11-25 10:45Z",
          "terminal": "1"
         },
         "isCargo": false,
         "number": "LH 182",
         "status": "Unknown"
        },
        {
         "aircraft": {
          "model": "Airbus A320 NEO"
         },
         "airline": {
          "name": "SAS"
         },
         "arrival": {
          "quality": [
           "Basic"
          ],
          "scheduledTimeLocal": "2021-11-25 13:00+01:00",
          "scheduledTimeUtc": "2021-11-25 12:00Z",
          "terminal": "1"
         },
         "codeshareStatus": "Unknown",
         "departure": {
          "airport": {
           "iata": "CPH",
           "icao": "EKCH",
           "name": "Copenhagen"
          },
          "quality": [
           "Basic"
          ],
          "scheduledTimeLocal": "2021-11-25 12:05+01:00",
          "scheduledTimeUtc": "2021-11-25 11:05Z",
          "terminal": "3"
         },
         "isCargo": false,
         "number": "SK 1673",
         "status": "Unknown"
        },
        {
         "aircraft": {
          "model": "Airbus A320"
         },
         "airline": {
          "name": "easyJet"
         },
         "arrival": {
          "quality": [
           "Basic"
          ],
          "scheduledTimeLocal": "2021-11-25 13:05+01:00",
          "scheduledTimeUtc": "2021-11-25 12:05Z",
          "terminal": "1"
         },
         "codeshareStatus": "Unknown",
         "departure": {
          "airport": {
           "iata": "CTA",
           "icao": "LICC",
           "name": "Catania"
          },
          "quality": [
           "Basic"
          ],
          "scheduledTimeLocal": "2021-11-25 10:10+01:00",
          "scheduledTimeUtc": "2021-11-25 09:10Z"
         },
         "isCargo": false,
         "number": "U2 5694",
         "status": "Unknown"
        },
        {
         "aircraft": {
          "model": "Boeing 737-800"
         },
         "airline": {
          "name": "Ryanair"
         },
         "arrival": {
          "quality": [
           "Basic"
          ],
          "scheduledTimeLocal": "2021-11-25 13:10+01:00",
          "scheduledTimeUtc": "2021-11-25 12:10Z"
         },
         "codeshareStatus": "Unknown",
         "departure": {
          "airport": {
           "iata": "DUB",
           "icao": "EIDW",
           "name": "Dublin"
          },
          "quality": [
           "Basic"
          ],
          "scheduledTimeLocal": "2021-11-25 09:50+00:00",
          "scheduledTimeUtc": "2021-11-25 09:50Z"
         },
         "isCargo": false,
         "number": "FR 8556",
         "status": "Unknown"
        },
        {
         "aircraft": {
          "model": "Airbus A320"
         },
         "airline": {
          "name": "easyJet"
         },
         "arrival": {
          "quality": [
           "Basic"
          ],
          "scheduledTimeLocal": "2021-11-25 13:10+01:00",
          "scheduledTimeUtc": "2021-11-25 12:10Z",
          "terminal": "1"
         },
         "codeshareStatus": "Unknown",
         "departure": {
          "airport": {
           "iata": "NAP",
           "icao": "LIRN",
           "name": "Nápoli"
          },
          "quality": [
           "Basic"
          ],
          "scheduledTimeLocal": "2021-11-25 10:50+01:00",
          "scheduledTimeUtc": "2021-11-25 09:50Z"
         },
         "isCargo": false,
         "number": "U2 5142",
         "status": "Unknown"
        },
        {
         "aircraft": {
          "model": "Airbus A320"
         },
         "airline": {
          "name": "Eurowings"
         },
         "arrival": {
          "quality": [
           "Basic"
          ],
          "scheduledTimeLocal": "2021-11-25 13:15+01:00",
          "scheduledTimeUtc": "2021-11-25 12:15Z",
          "terminal": "1"
         },
         "codeshareStatus": "Unknown",
         "departure": {
          "airport": {
           "iata": "CGN",
           "icao": "EDDK",
           "name": "Cologne"
          },
          "quality": [
           "Basic"
          ],
          "scheduledTimeLocal": "2021-11-25 12:05+01:00",
          "scheduledTimeUtc": "2021-11-25 11:05Z",
          "terminal": "1"
         },
         "isCargo": false,
         "number": "EW 8051",
         "status": "Unknown"
        },
        {
         "aircraft": {
          "model": "Airbus A319"
         },
         "airline": {
          "name": "Royal Jordanian"
         },
         "arrival": {
          "quality": [
           "Basic"
          ],
          "scheduledTimeLocal": "2021-11-25 13:20+01:00",
          "scheduledTimeUtc": "2021-11-25 12:20Z",
          "terminal": "1"
         },
         "codeshareStatus": "Unknown",
         "departure": {
          "airport": {
           "iata": "AMM",
           "icao": "OJAI",
           "name": "Amman"
          },
          "quality": [
           "Basic"
          ],
          "scheduledTimeLocal": "2021-11-25 09:45+02:00",
          "scheduledTimeUtc": "2021-11-25 07:45Z"
         },
         "isCargo": false,
         "number": "RJ 121",
         "status": "Unknown"
        },
        {
         "aircraft": {
          "model": "Airbus A320"
         },
         "airline": {
          "name": "Eurowings"
         },
         "arrival": {
          "quality": [
           "Basic"
          ],
          "scheduledTimeLocal": "2021-11-25 13:25+01:00",
          "scheduledTimeUtc": "2021-11-25 12:25Z",
          "terminal": "1"
         },
         "codeshareStatus": "Unknown",
         "departure": {
          "actualTimeLocal": "2021-11-25 12:05+01:00",
          "actualTimeUtc": "2021-11-25 11:05Z",
          "airport": {
           "iata": "STR",
           "icao": "EDDS",
           "name": "Stuttgart"
          },
          "gate": "140",
          "quality": [
           "Basic",
           "Live"
          ],
          "scheduledTimeLocal": "2021-11-25 12:05+01:00",
          "scheduledTimeUtc": "2021-11-25 11:05Z",
          "terminal": "1"
         },
         "isCargo": false,
         "number": "EW 8003",
         "status": "Unknown"
        },
        {
         "aircraft": {
          "model": "Airbus A321"
         },
         "airline": {
          "name": "Turkish"
         },
         "arrival": {
          "quality": [
           "Basic"
          ],
          "scheduledTimeLocal": "2021-11-25 13:30+01:00",
          "scheduledTimeUtc": "2021-11-25 12:30Z",
          "terminal": "1"
         },
         "codeshareStatus": "Unknown",
         "departure": {
          "airport": {
           "iata": "IST",
           "icao": "LTFM",
           "name": "Istanbul"
          },
          "quality": [
           "Basic"
          ],
          "scheduledTimeLocal": "2021-11-25 12:40+03:00",
          "scheduledTimeUtc": "2021-11-25 09:40Z"
         },
         "isCargo": false,
         "number": "TK 1725",
         "status": "Unknown"
        },
        {
         "aircraft": {
          "model": "Boeing 737-800"
         },
         "airline": {
          "name": "Ryanair"
         },
         "arrival": {
          "quality": [
           "Basic"
          ],
          "scheduledTimeLocal": "2021-11-25 13:35+01:00",
          "scheduledTimeUtc": "2021-11-25 12:35Z"
         },
         "codeshareStatus": "Unknown",
         "departure": {
          "airport": {
           "iata": "STN",
           "icao": "EGSS",
           "name": "London"
          },
          "quality": [
           "Basic"
          ],
          "scheduledTimeLocal": "2021-11-25 10:45+00:00",
          "scheduledTimeUtc": "2021-11-25 10:45Z"
         },
         "isCargo": false,
         "number": "FR 176",
         "status": "Unknown"
        },
        {
         "aircraft": {
          "model": "Boeing 737-800"
         },
         "airline": {
          "name": "Ryanair"
         },
         "arrival": {
          "quality": [
           "Basic"
          ],
          "scheduledTimeLocal": "2021-11-25 13:40+01:00",
          "scheduledTimeUtc": "2021-11-25 12:40Z"
         },
         "codeshareStatus": "Unknown",
         "departure": {
          "airport": {
           "iata": "KIR",
           "icao": "EIKY",
           "name": "Killarney"
          },
          "quality": [
           "Basic"
          ],
          "scheduledTimeLocal": "2021-11-25 10:10+00:00",
          "scheduledTimeUtc": "2021-11-25 10:10Z"
         },
         "isCargo": false,
         "number": "FR 1710",
         "status": "Unknown"
        },
        {
         "aircraft": {
          "model": "Boeing 737-800"
         },
         "airline": {
          "name": "Ryanair"
         },
         "arrival": {
          "quality": [
           "Basic"
          ],
          "scheduledTimeLocal": "2021-11-25 13:55+01:00",
          "scheduledTimeUtc": "2021-11-25 12:55Z"
         },
         "codeshareStatus": "Unknown",
         "departure": {
          "airport": {
           "iata": "MXP",
           "icao": "LIMC",
           "name": "Milan"
          },
          "quality": [
           "Basic"
          ],
          "scheduledTimeLocal": "2021-11-25 12:15+01:00",
          "scheduledTimeUtc": "2021-11-25 11:15Z"
         },
         "isCargo": false,
         "number": "FR 9",
         "status": "Unknown"
        },
        {
         "aircraft": {
          "model": "Airbus A320"
         },
         "airline": {
          "name": "easyJet"
         },
         "arrival": {
          "quality": [
           "Basic"
          ],
          "scheduledTimeLocal": "2021-11-25 13:55+01:00",
          "scheduledTimeUtc": "2021-11-25 12:55Z",
          "terminal": "1"
         },
         "codeshareStatus": "Unknown",
         "departure": {
          "airport": {
           "name": "Barcelona"
          },
          "quality": []
         },
         "isCargo": false,
         "number": "U2 5122",
         "status": "Unknown"
        },
        {
         "aircraft": {
          "model": "Airbus A320"
         },
         "airline": {
          "name": "SWISS"
         },
         "arrival": {
          "quality": [
           "Basic"
          ],
          "scheduledTimeLocal": "2021-11-25 14:00+01:00",
          "scheduledTimeUtc": "2021-11-25 13:00Z",
          "terminal": "1"
         },
         "codeshareStatus": "Unknown",
         "departure": {
          "actualTimeLocal": "2021-11-25 12:35+01:00",
          "actualTimeUtc": "2021-11-25 11:35Z",
          "airport": {
           "iata": "ZRH",
           "icao": "LSZH",
           "name": "Zurich"
          },
          "checkInDesk": "1",
          "quality": [
           "Basic",
           "Live"
          ],
          "scheduledTimeLocal": "2021-11-25 12:35+01:00",
          "scheduledTimeUtc": "2021-11-25 11:35Z"
         },
         "isCargo": false,
         "number": "LX 966",
         "status": "Unknown"
        },
        {
         "aircraft": {
          "model": "Boeing 737-800"
         },
         "airline": {
          "name": "Ryanair"
         },
         "arrival": {
          "quality": [
           "Basic"
          ],
          "scheduledTimeLocal": "2021-11-25 14:05+01:00",
          "scheduledTimeUtc": "2021-11-25 13:05Z"
         },
         "codeshareStatus": "Unknown",
         "departure": {
          "airport": {
           "iata": "STN",
           "icao": "EGSS",
           "name": "London"
          },
          "quality": [
           "Basic"
          ],
          "scheduledTimeLocal": "2021-11-25 11:15+00:00",
          "scheduledTimeUtc": "2021-11-25 11:15Z"
         },
         "isCargo": false,
         "number": "FR 8542",
         "status": "Unknown"
        },
        {
         "aircraft": {
          "model": "Airbus A320"
         },
         "airline": {
          "name": "Vueling"
         },
         "arrival": {
          "quality": [
           "Basic"
          ],
          "scheduledTimeLocal": "2021-11-25 14:10+01:00",
          "scheduledTimeUtc": "2021-11-25 13:10Z",
          "terminal": "1"
         },
         "codeshareStatus": "Unknown",
         "departure": {
          "actualTimeLocal": "2021-11-25 11:30+01:00",
          "actualTimeUtc": "2021-11-25 10:30Z",
          "airport": {
           "iata": "BCN",
           "icao": "LEBL",
           "name": "Barcelona"
          },
          "quality": [
           "Basic",
           "Live"
          ],
          "scheduledTimeLocal": "2021-11-25 11:30+01:00",
          "scheduledTimeUtc": "2021-11-25 10:30Z",
          "terminal": "1"
         },
         "isCargo": false,
         "number": "VY 1882",
         "status": "Unknown"
        },
        {
         "aircraft": {
          "model": "Embraer 190"
         },
         "airline": {
          "name": "Pegas Fly"
         },
         "arrival": {
          "quality": [
           "Basic"
          ],
          "scheduledTimeLocal": "2021-11-25 14:45+01:00",
          "scheduledTimeUtc": "2021-11-25 13:45Z",
          "terminal": "1"
         },
         "codeshareStatus": "Unknown",
         "departure": {
          "actualTimeLocal": "2021-11-25 14:25+03:00",
          "actualTimeUtc": "2021-11-25 11:25Z",
          "airport": {
           "iata": "LED",
           "icao": "ULLI",
           "name": "Saint-Petersburg"
          },
          "checkInDesk": "A317-A318",
          "quality": [
           "Basic",
           "Live"
          ],
          "scheduledTimeLocal": "2021-11-25 14:25+03:00",
          "scheduledTimeUtc": "2021-11-25 11:25Z",
          "terminal": "1"
         },
         "isCargo": false,
         "number": "EO 1909",
         "status": "Unknown"
        },
        {
         "aircraft": {
          "model": "Airbus A320 NEO"
         },
         "airline": {
          "name": "Lufthansa"
         },
         "arrival": {
          "quality": [
           "Basic"
          ],
          "scheduledTimeLocal": "2021-11-25 14:55+01:00",
          "scheduledTimeUtc": "2021-11-25 13:55Z",
          "terminal": "1"
         },
         "codeshareStatus": "IsCodeshared",
         "departure": {
          "actualTimeLocal": "2021-11-25 13:45+01:00",
          "actualTimeUtc": "2021-11-25 12:45Z",
          "airport": {
           "iata": "FRA",
           "icao": "EDDF",
           "name": "Frankfurt-am-Main"
          },
          "quality": [
           "Basic",
           "Live"
          ],
          "scheduledTimeLocal": "2021-11-25 13:45+01:00",
          "scheduledTimeUtc": "2021-11-25 12:45Z",
          "terminal": "1"
         },
         "isCargo": false,
         "number": "LH 186",
         "status": "Unknown"
        },
        {
         "aircraft": {
          "model": "Boeing 737-800"
         },
         "airline": {
          "name": "Ryanair"
         },
         "arrival": {
          "quality": [
           "Basic"
          ],
          "scheduledTimeLocal": "2021-11-25 15:05+01:00",
          "scheduledTimeUtc": "2021-11-25 14:05Z"
         },
         "codeshareStatus": "Unknown",
         "departure": {
          "airport": {
           "iata": "TSF",
           "icao": "LIPH",
           "name": "Treviso"
          },
          "quality": [
           "Basic"
          ],
          "scheduledTimeLocal": "2021-11-25 13:30+01:00",
          "scheduledTimeUtc": "2021-11-25 12:30Z"
         },
         "isCargo": false,
         "number": "FR 4721",
         "status": "Unknown"
        },
        {
         "aircraft": {
          "model": "Airbus A320"
         },
         "airline": {
          "name": "Lufthansa"
         },
         "arrival": {
          "quality": [
           "Basic"
          ],
          "scheduledTimeLocal": "2021-11-25 15:25+01:00",
          "scheduledTimeUtc": "2021-11-25 14:25Z",
          "terminal": "1"
         },
         "codeshareStatus": "IsCodeshared",
         "departure": {
          "airport": {
           "iata": "MUC",
           "icao": "EDDM",
           "name": "Munich"
          },
          "quality": [
           "Basic"
          ],
          "scheduledTimeLocal": "2021-11-25 14:15+01:00",
          "scheduledTimeUtc": "2021-11-25 13:15Z",
          "terminal": "2"
         },
         "isCargo": false,
         "number": "LH 1944",
         "status": "Unknown"
        },
        {
         "aircraft": {
          "model": "Boeing 737-800"
         },
         "airline": {
          "name": "Ryanair"
         },
         "arrival": {
          "quality": [
           "Basic"
          ],
          "scheduledTimeLocal": "2021-11-25 15:30+01:00",
          "scheduledTimeUtc": "2021-11-25 14:30Z"
         },
         "codeshareStatus": "Unknown",
         "departure": {
          "airport": {
           "iata": "TLV",
           "icao": "LLBG",
           "name": "Tel Aviv Yafo"
          },
          "quality": [
           "Basic"
          ],
          "scheduledTimeLocal": "2021-11-25 12:15+02:00",
          "scheduledTimeUtc": "2021-11-25 10:15Z"
         },
         "isCargo": false,
         "number": "FR 6473",
         "status": "Unknown"
        },
        {
         "aircraft": {
          "model": "Airbus A320"
         },
         "airline": {
          "name": "easyJet"
         },
         "arrival": {
          "quality": [
           "Basic"
          ],
          "scheduledTimeLocal": "2021-11-25 15:30+01:00",
          "scheduledTimeUtc": "2021-11-25 14:30Z",
          "terminal": "1"
         },
         "codeshareStatus": "Unknown",
         "departure": {
          "airport": {
           "iata": "AGP",
           "icao": "LEMG",
           "name": "Málaga"
          },
          "quality": [
           "Basic"
          ],
          "scheduledTimeLocal": "2021-11-25 11:50+01:00",
          "scheduledTimeUtc": "2021-11-25 10:50Z"
         },
         "isCargo": false,
         "number": "U2 5914",
         "status": "Unknown"
        },
        {
         "aircraft": {
          "model": "Boeing 737-800"
         },
         "airline": {
          "name": "Ryanair"
         },
         "arrival": {
          "quality": [
           "Basic"
          ],
          "scheduledTimeLocal": "2021-11-25 15:35+01:00",
          "scheduledTimeUtc": "2021-11-25 14:35Z"
         },
         "codeshareStatus": "Unknown",
         "departure": {
          "actualTimeLocal": "2021-11-25 12:40+00:00",
          "actualTimeUtc": "2021-11-25 12:40Z",
          "airport": {
           "iata": "MAN",
           "icao": "EGCC",
           "name": "Manchester"
          },
          "quality": [
           "Basic",
           "Live"
          ],
          "scheduledTimeLocal": "2021-11-25 12:40+00:00",
          "scheduledTimeUtc": "2021-11-25 12:40Z",
          "terminal": "T1"
         },
         "isCargo": false,
         "number": "FR 1145",
         "status": "Unknown"
        },
        {
         "aircraft": {
          "model": "Airbus A320"
         },
         "airline": {
          "name": "Eurowings"
         },
         "arrival": {
          "quality": [
           "Basic"
          ],
          "scheduledTimeLocal": "2021-11-25 15:45+01:00",
          "scheduledTimeUtc": "2021-11-25 14:45Z",
          "terminal": "1"
         },
         "codeshareStatus": "Unknown",
         "departure": {
          "actualTimeLocal": "2021-11-25 14:25+01:00",
          "actualTimeUtc": "2021-11-25 13:25Z",
          "airport": {
           "iata": "STR",
           "icao": "EDDS",
           "name": "Stuttgart"
          },
          "gate": "114",
          "quality": [
           "Basic",
           "Live"
          ],
          "scheduledTimeLocal": "2021-11-25 14:25+01:00",
          "scheduledTimeUtc": "2021-11-25 13:25Z",
          "terminal": "1"
         },
         "isCargo": false,
         "number": "EW 2004",
         "status": "Unknown"
        },
        {
         "aircraft": {
          "model": "Airbus A320",
          "reg": "D-AGWU"
         },
         "airline": {
          "name": "Eurowings"
         },
         "arrival": {
          "quality": [
           "Basic"
          ],
          "scheduledTimeLocal": "2021-11-25 15:50+01:00",
          "scheduledTimeUtc": "2021-11-25 14:50Z",
          "terminal": "1"
         },
         "codeshareStatus": "Unknown",
         "departure": {
          "actualTimeLocal": "2021-11-25 14:35+01:00",
          "actualTimeUtc": "2021-11-25 13:35Z",
          "airport": {
           "iata": "DUS",
           "icao": "EDDL",
           "name": "Duesseldorf"
          },
          "checkInDesk": "153,170",
          "gate": "A26",
          "quality": [
           "Basic",
           "Live"
          ],
          "scheduledTimeLocal": "2021-11-25 14:35+01:00",
          "scheduledTimeUtc": "2021-11-25 13:35Z",
          "terminal": "B"
         },
         "isCargo": false,
         "number": "EW 9042",
         "status": "Unknown"
        },
        {
         "aircraft": {
          "model": "Embraer 190"
         },
         "airline": {
          "name": "British Airways"
         },
         "arrival": {
          "quality": [
           "Basic"
          ],
          "scheduledTimeLocal": "2021-11-25 15:55+01:00",
          "scheduledTimeUtc": "2021-11-25 14:55Z",
          "terminal": "1"
         },
         "codeshareStatus": "IsCodeshared",
         "departure": {
          "airport": {
           "iata": "LCY",
           "icao": "EGLC",
           "name": "London"
          },
          "quality": [
           "Basic"
          ],
          "scheduledTimeLocal": "2021-11-25 13:15+00:00",
          "scheduledTimeUtc": "2021-11-25 13:15Z"
         },
         "isCargo": false,
         "number": "BA 8493",
         "status": "Unknown"
        },
        {
         "aircraft": {
          "model": "Airbus A321"
         },
         "airline": {
          "name": "Lufthansa"
         },
         "arrival": {
          "quality": [
           "Basic"
          ],
          "scheduledTimeLocal": "2021-11-25 15:55+01:00",
          "scheduledTimeUtc": "2021-11-25 14:55Z",
          "terminal": "1"
         },
         "codeshareStatus": "IsCodeshared",
         "departure": {
          "actualTimeLocal": "2021-11-25 14:45+01:00",
          "actualTimeUtc": "2021-11-25 13:45Z",
          "airport": {
           "iata": "FRA",
           "icao": "EDDF",
           "name": "Frankfurt-am-Main"
          },
          "quality": [
           "Basic",
           "Live"
          ],
          "scheduledTimeLocal": "2021-11-25 14:45+01:00",
          "scheduledTimeUtc": "2021-11-25 13:45Z",
          "terminal": "1"
         },
         "isCargo": false,
         "number": "LH 188",
         "status": "Unknown"
        },
        {
         "aircraft": {
          "model": "Boeing 737-800"
         },
         "airline": {
          "name": "Ryanair"
         },
         "arrival": {
          "quality": [
           "Basic"
          ],
          "scheduledTimeLocal": "2021-11-25 16:00+01:00",
          "scheduledTimeUtc": "2021-11-25 15:00Z"
         },
         "codeshareStatus": "Unknown",
         "departure": {
          "airport": {
           "iata": "MRS",
           "icao": "LFML",
           "name": "Marseille"
          },
          "quality": [
           "Basic"
          ],
          "scheduledTimeLocal": "2021-11-25 13:55+01:00",
          "scheduledTimeUtc": "2021-11-25 12:55Z"
         },
         "isCargo": false,
         "number": "FR 8950",
         "status": "Unknown"
        },
        {
         "aircraft": {
          "model": "Airbus A320"
         },
         "airline": {
          "name": "Austrian"
         },
         "arrival": {
          "quality": [
           "Basic"
          ],
          "scheduledTimeLocal": "2021-11-25 16:15+01:00",
          "scheduledTimeUtc": "2021-11-25 15:15Z",
          "terminal": "1"
         },
         "codeshareStatus": "Unknown",
         "departure": {
          "airport": {
           "iata": "VIE",
           "icao": "LOWW",
           "name": "Vienna"
          },
          "quality": [
           "Basic"
          ],
          "scheduledTimeLocal": "2021-11-25 15:00+01:00",
          "scheduledTimeUtc": "2021-11-25 14:00Z",
          "terminal": "3"
         },
         "isCargo": false,
         "number": "OS 231",
         "status": "Unknown"
        },
        {
         "aircraft": {
          "model": "Airbus A320"
         },
         "airline": {
          "name": "TAP Air Portugal"
         },
         "arrival": {
          "quality": [
           "Basic"
          ],
          "scheduledTimeLocal": "2021-11-25 16:35+01:00",
          "scheduledTimeUtc": "2021-11-25 15:35Z",
          "terminal": "1"
         },
         "codeshareStatus": "Unknown",
         "departure": {
          "airport": {
           "iata": "LIS",
           "icao": "LPPT",
           "name": "Lisbon"
          },
          "quality": [
           "Basic"
          ],
          "scheduledTimeLocal": "2021-11-25 12:05+00:00",
          "scheduledTimeUtc": "2021-11-25 12:05Z",
          "terminal": "1"
         },
         "isCargo": false,
         "number": "TP 534",
         "status": "Unknown"
        },
        {
         "aircraft": {
          "model": "Embraer 190"
         },
         "airline": {
          "name": "KLM"
         },
         "arrival": {
          "quality": [
           "Basic"
          ],
          "scheduledTimeLocal": "2021-11-25 16:40+01:00",
          "scheduledTimeUtc": "2021-11-25 15:40Z",
          "terminal": "1"
         },
         "codeshareStatus": "IsOperator",
         "departure": {
          "airport": {
           "iata": "AMS",
           "icao": "EHAM",
           "name": "Amsterdam"
          },
          "checkInDesk": "5-8",
          "quality": [
           "Basic"
          ],
          "scheduledTimeLocal": "2021-11-25 15:20+01:00",
          "scheduledTimeUtc": "2021-11-25 14:20Z",
          "terminal": "1"
         },
         "isCargo": false,
         "number": "KL 1829",
         "status": "Unknown"
        },
        {
         "aircraft": {
          "model": "Airbus A320"
         },
         "airline": {
          "name": "easyJet"
         },
         "arrival": {
          "quality": [
           "Basic"
          ],
          "scheduledTimeLocal": "2021-11-25 16:45+01:00",
          "scheduledTimeUtc": "2021-11-25 15:45Z",
          "terminal": "1"
         },
         "codeshareStatus": "Unknown",
         "departure": {
          "airport": {
           "iata": "TLV",
           "icao": "LLBG",
           "name": "Tel Aviv Yafo"
          },
          "quality": [
           "Basic"
          ],
          "scheduledTimeLocal": "2021-11-25 13:10+02:00",
          "scheduledTimeUtc": "2021-11-25 11:10Z",
          "terminal": "3"
         },
         "isCargo": false,
         "number": "U2 5202",
         "status": "Unknown"
        },
        {
         "aircraft": {
          "model": "Boeing 737-800"
         },
         "airline": {
          "name": "Ryanair"
         },
         "arrival": {
          "quality": [
           "Basic"
          ],
          "scheduledTimeLocal": "2021-11-25 16:50+01:00",
          "scheduledTimeUtc": "2021-11-25 15:50Z"
         },
         "codeshareStatus": "Unknown",
         "departure": {
          "actualTimeLocal": "2021-11-25 14:05+01:00",
          "actualTimeUtc": "2021-11-25 13:05Z",
          "airport": {
           "iata": "PMI",
           "icao": "LEPA",
           "name": "Palma De Mallorca"
          },
          "quality": [
           "Basic",
           "Live"
          ],
          "scheduledTimeLocal": "2021-11-25 14:05+01:00",
          "scheduledTimeUtc": "2021-11-25 13:05Z"
         },
         "isCargo": false,
         "number": "FR 111",
         "status": "Unknown"
        },
        {
         "aircraft": {
          "model": "Boeing 737-800"
         },
         "airline": {
          "name": "Ryanair"
         },
         "arrival": {
          "quality": [
           "Basic"
          ],
          "scheduledTimeLocal": "2021-11-25 16:55+01:00",
          "scheduledTimeUtc": "2021-11-25 15:55Z"
         },
         "codeshareStatus": "Unknown",
         "departure": {
          "actualTimeLocal": "2021-11-25 10:55+00:00",
          "actualTimeUtc": "2021-11-25 10:55Z",
          "airport": {
           "iata": "FUE",
           "icao": "GCFV",
           "name": "Fuerteventura Island"
          },
          "quality": [
           "Basic",
           "Live"
          ],
          "scheduledTimeLocal": "2021-11-25 10:55+00:00",
          "scheduledTimeUtc": "2021-11-25 10:55Z"
         },
         "isCargo": false,
         "number": "FR 1102",
         "status": "Unknown"
        },
        {
         "aircraft": {
          "model": "Airbus A320 NEO"
         },
         "airline": {
          "name": "Lufthansa"
         },
         "arrival": {
          "quality": [
           "Basic"
          ],
          "scheduledTimeLocal": "2021-11-25 16:55+01:00",
          "scheduledTimeUtc": "2021-11-25 15:55Z",
          "terminal": "1"
         },
         "codeshareStatus": "IsCodeshared",
         "departure": {
          "airport": {
           "iata": "MUC",
           "icao": "EDDM",
           "name": "Munich"
          },
          "quality": [
           "Basic"
          ],
          "scheduledTimeLocal": "2021-11-25 15:45+01:00",
          "scheduledTimeUtc": "2021-11-25 14:45Z",
          "terminal": "2"
         },
         "isCargo": false,
         "number": "LH 1942",
         "status": "Unknown"
        },
        {
         "aircraft": {
          "model": "Boeing 737-800"
         },
         "airline": {
          "name": "Ryanair"
         },
         "arrival": {
          "quality": [
           "Basic"
          ],
          "scheduledTimeLocal": "2021-11-25 17:00+01:00",
          "scheduledTimeUtc": "2021-11-25 16:00Z"
         },
         "codeshareStatus": "Unknown",
         "departure": {
          "actualTimeLocal": "2021-11-25 14:15+01:00",
          "actualTimeUtc": "2021-11-25 13:15Z",
          "airport": {
           "iata": "BCN",
           "icao": "LEBL",
           "name": "Barcelona"
          },
          "quality": [
           "Basic",
           "Live"
          ],
          "scheduledTimeLocal": "2021-11-25 14:15+01:00",
          "scheduledTimeUtc": "2021-11-25 13:15Z",
          "terminal": "2"
         },
         "isCargo": false,
         "number": "FR 133",
         "status": "Unknown"
        },
        {
         "aircraft": {
          "model": "Airbus A319"
         },
         "airline": {
          "name": "Eurowings"
         },
         "arrival": {
          "quality": [
           "Basic"
          ],
          "scheduledTimeLocal": "2021-11-25 17:05+01:00",
          "scheduledTimeUtc": "2021-11-25 16:05Z",
          "terminal": "1"
         },
         "codeshareStatus": "Unknown",
         "departure": {
          "actualTimeLocal": "2021-11-25 15:45+01:00",
          "actualTimeUtc": "2021-11-25 14:45Z",
          "airport": {
           "iata": "STR",
           "icao": "EDDS",
           "name": "Stuttgart"
          },
          "gate": "140",
          "quality": [
           "Basic",
           "Live"
          ],
          "scheduledTimeLocal": "2021-11-25 15:45+01:00",
          "scheduledTimeUtc": "2021-11-25 14:45Z",
          "terminal": "1"
         },
         "isCargo": false,
         "number": "EW 2058",
         "status": "Unknown"
        },
        {
         "aircraft": {
          "model": "Airbus A320"
         },
         "airline": {
          "name": "Air France"
         },
         "arrival": {
          "quality": [
           "Basic"
          ],
          "scheduledTimeLocal": "2021-11-25 17:10+01:00",
          "scheduledTimeUtc": "2021-11-25 16:10Z",
          "terminal": "1"
         },
         "codeshareStatus": "Unknown",
         "departure": {
          "airport": {
           "iata": "CDG",
           "icao": "LFPG",
           "name": "Paris"
          },
          "quality": [
           "Basic"
          ],
          "scheduledTimeLocal": "2021-11-25 15:30+01:00",
          "scheduledTimeUtc": "2021-11-25 14:30Z",
          "terminal": "2F"
         },
         "isCargo": false,
         "number": "AF 1834",
         "status": "Unknown"
        },
        {
         "aircraft": {
          "model": "Boeing 737-800"
         },
         "airline": {
          "name": "Ryanair"
         },
         "arrival": {
          "quality": [
           "Basic"
          ],
          "scheduledTimeLocal": "2021-11-25 17:15+01:00",
          "scheduledTimeUtc": "2021-11-25 16:15Z"
         },
         "codeshareStatus": "Unknown",
         "departure": {
          "actualTimeLocal": "2021-11-25 11:05+00:00",
          "actualTimeUtc": "2021-11-25 11:05Z",
          "airport": {
           "iata": "TFS",
           "icao": "GCTS",
           "name": "Tenerife Island"
          },
          "quality": [
           "Basic",
           "Live"
          ],
          "scheduledTimeLocal": "2021-11-25 11:05+00:00",
          "scheduledTimeUtc": "2021-11-25 11:05Z"
         },
         "isCargo": false,
         "number": "FR 4067",
         "status": "Unknown"
        },
        {
         "aircraft": {
          "model": "Airbus A321"
         },
         "airline": {
          "name": "Turkish"
         },
         "arrival": {
          "quality": [
           "Basic"
          ],
          "scheduledTimeLocal": "2021-11-25 17:30+01:00",
          "scheduledTimeUtc": "2021-11-25 16:30Z",
          "terminal": "1"
         },
         "codeshareStatus": "Unknown",
         "departure": {
          "airport": {
           "iata": "IST",
           "icao": "LTFM",
           "name": "Istanbul"
          },
          "quality": [
           "Basic"
          ],
          "scheduledTimeLocal": "2021-11-25 16:40+03:00",
          "scheduledTimeUtc": "2021-11-25 13:40Z"
         },
         "isCargo": false,
         "number": "TK 1723",
         "status": "Unknown"
        },
        {
         "aircraft": {
          "model": "Airbus A320"
         },
         "airline": {
          "name": "Eurowings"
         },
         "arrival": {
          "quality": [
           "Basic"
          ],
          "scheduledTimeLocal": "2021-11-25 17:35+01:00",
          "scheduledTimeUtc": "2021-11-25 16:35Z",
          "terminal": "1"
         },
         "codeshareStatus": "Unknown",
         "departure": {
          "airport": {
           "iata": "CGN",
           "icao": "EDDK",
           "name": "Cologne"
          },
          "quality": [
           "Basic"
          ],
          "scheduledTimeLocal": "2021-11-25 16:25+01:00",
          "scheduledTimeUtc": "2021-11-25 15:25Z",
          "terminal": "1"
         },
         "isCargo": false,
         "number": "EW 6",
         "status": "Unknown"
        },
        {
         "aircraft": {
          "model": "Boeing 737-800"
         },
         "airline": {
          "name": "Ryanair"
         },
         "arrival": {
          "quality": [
           "Basic"
          ],
          "scheduledTimeLocal": "2021-11-25 17:35+01:00",
          "scheduledTimeUtc": "2021-11-25 16:35Z"
         },
         "codeshareStatus": "Unknown",
         "departure": {
          "airport": {
           "iata": "INI",
           "icao": "LYNI",
           "name": "Niš"
          },
          "quality": [
           "Basic"
          ],
          "scheduledTimeLocal": "2021-11-25 15:30+01:00",
          "scheduledTimeUtc": "2021-11-25 14:30Z"
         },
         "isCargo": false,
         "number": "FR 1106",
         "status": "Unknown"
        },
        {
         "aircraft": {
          "model": "Bombardier CRJ900"
         },
         "airline": {
          "name": "Lufthansa"
         },
         "arrival": {
          "quality": [
           "Basic"
          ],
          "scheduledTimeLocal": "2021-11-25 17:40+01:00",
          "scheduledTimeUtc": "2021-11-25 16:40Z",
          "terminal": "1"
         },
         "codeshareStatus": "IsCodeshared",
         "departure": {
          "airport": {
           "iata": "MUC",
           "icao": "EDDM",
           "name": "Munich"
          },
          "quality": [
           "Basic"
          ],
          "scheduledTimeLocal": "2021-11-25 16:30+01:00",
          "scheduledTimeUtc": "2021-11-25 15:30Z",
          "terminal": "2"
         },
         "isCargo": false,
         "number": "LH 1946",
         "status": "Unknown"
        },
        {
         "aircraft": {
          "model": "Embraer 175"
         },
         "airline": {
          "name": "LOT - Polish"
         },
         "arrival": {
          "quality": [
           "Basic"
          ],
          "scheduledTimeLocal": "2021-11-25 17:45+01:00",
          "scheduledTimeUtc": "2021-11-25 16:45Z",
          "terminal": "1"
         },
         "codeshareStatus": "Unknown",
         "departure": {
          "airport": {
           "iata": "WAW",
           "icao": "EPWA",
           "name": "Warsaw"
          },
          "quality": [
           "Basic"
          ],
          "scheduledTimeLocal": "2021-11-25 16:20+01:00",
          "scheduledTimeUtc": "2021-11-25 15:20Z"
         },
         "isCargo": false,
         "number": "LO 389",
         "status": "Unknown"
        },
        {
         "aircraft": {
          "model": "Airbus A320"
         },
         "airline": {
          "name": "Brussels"
         },
         "arrival": {
          "quality": [
           "Basic"
          ],
          "scheduledTimeLocal": "2021-11-25 17:50+01:00",
          "scheduledTimeUtc": "2021-11-25 16:50Z",
          "terminal": "1"
         },
         "codeshareStatus": "Unknown",
         "departure": {
          "actualTimeLocal": "2021-11-25 16:30+01:00",
          "actualTimeUtc": "2021-11-25 15:30Z",
          "airport": {
           "iata": "BRU",
           "icao": "EBBR",
           "name": "Brussels"
          },
          "checkInDesk": "02",
          "quality": [
           "Basic",
           "Live"
          ],
          "scheduledTimeLocal": "2021-11-25 16:30+01:00",
          "scheduledTimeUtc": "2021-11-25 15:30Z"
         },
         "isCargo": false,
         "number": "SN 2587",
         "status": "Unknown"
        },
        {
         "aircraft": {
          "model": "Airbus A321"
         },
         "airline": {
          "name": "Condor"
         },
         "arrival": {
          "quality": [
           "Basic"
          ],
          "scheduledTimeLocal": "2021-11-25 17:55+01:00",
          "scheduledTimeUtc": "2021-11-25 16:55Z",
          "terminal": "1"
         },
         "codeshareStatus": "Unknown",
         "departure": {
          "airport": {
           "iata": "HRG",
           "icao": "HEGN",
           "name": "Hurghada"
          },
          "quality": [
           "Basic"
          ],
          "scheduledTimeLocal": "2021-11-25 14:00+02:00",
          "scheduledTimeUtc": "2021-11-25 12:00Z",
          "terminal": "1"
         },
         "isCargo": false,
         "number": "DE 433",
         "status": "Unknown"
        },
        {
         "aircraft": {
          "model": "Airbus A320"
         },
         "airline": {
          "name": "Eurowings"
         },
         "arrival": {
          "quality": [
           "Basic"
          ],
          "scheduledTimeLocal": "2021-11-25 17:55+01:00",
          "scheduledTimeUtc": "2021-11-25 16:55Z",
          "terminal": "1"
         },
         "codeshareStatus": "Unknown",
         "departure": {
          "actualTimeLocal": "2021-11-25 16:40+01:00",
          "actualTimeUtc": "2021-11-25 15:40Z",
          "airport": {
           "iata": "DUS",
           "icao": "EDDL",
           "name": "Duesseldorf"
          },
          "checkInDesk": "153,170",
          "gate": "A42",
          "quality": [
           "Basic",
           "Live"
          ],
          "scheduledTimeLocal": "2021-11-25 16:40+01:00",
          "scheduledTimeUtc": "2021-11-25 15:40Z",
          "terminal": "B"
         },
         "isCargo": false,
         "number": "EW 8045",
         "status": "Unknown"
        },
        {
         "aircraft": {
          "model": "Airbus A320"
         },
         "airline": {
          "name": "Lufthansa"
         },
         "arrival": {
          "quality": [
           "Basic"
          ],
          "scheduledTimeLocal": "2021-11-25 17:55+01:00",
          "scheduledTimeUtc": "2021-11-25 16:55Z",
          "terminal": "1"
         },
         "codeshareStatus": "IsCodeshared",
         "departure": {
          "actualTimeLocal": "2021-11-25 16:45+01:00",
          "actualTimeUtc": "2021-11-25 15:45Z",
          "airport": {
           "iata": "FRA",
           "icao": "EDDF",
           "name": "Frankfurt-am-Main"
          },
          "quality": [
           "Basic",
           "Live"
          ],
          "scheduledTimeLocal": "2021-11-25 16:45+01:00",
          "scheduledTimeUtc": "2021-11-25 15:45Z",
          "terminal": "1"
         },
         "isCargo": false,
         "number": "LH 192",
         "status": "Unknown"
        },
        {
         "aircraft": {
          "model": "Embraer 190"
         },
         "airline": {
          "name": "KLM"
         },
         "arrival": {
          "quality": [
           "Basic"
          ],
          "scheduledTimeLocal": "2021-11-25 18:00+01:00",
          "scheduledTimeUtc": "2021-11-25 17:00Z",
          "terminal": "1"
         },
         "codeshareStatus": "IsOperator",
         "departure": {
          "airport": {
           "iata": "AMS",
           "icao": "EHAM",
           "name": "Amsterdam"
          },
          "checkInDesk": "5-8",
          "quality": [
           "Basic"
          ],
          "scheduledTimeLocal": "2021-11-25 16:45+01:00",
          "scheduledTimeUtc": "2021-11-25 15:45Z",
          "terminal": "1"
         },
         "isCargo": false,
         "number": "KL 1831",
         "status": "Unknown"
        },
        {
         "aircraft": {
          "model": "Boeing 737-800"
         },
         "airline": {
          "name": "Ryanair"
         },
         "arrival": {
          "quality": [
           "Basic"
          ],
          "scheduledTimeLocal": "2021-11-25 18:10+01:00",
          "scheduledTimeUtc": "2021-11-25 17:10Z"
         },
         "codeshareStatus": "Unknown",
         "departure": {
          "airport": {
           "iata": "VNO",
           "icao": "EYVI",
           "name": "Vilnius"
          },
          "quality": [
           "Basic"
          ],
          "scheduledTimeLocal": "2021-11-25 17:30+02:00",
          "scheduledTimeUtc": "2021-11-25 15:30Z"
         },
         "isCargo": false,
         "number": "FR 1571",
         "status": "Unknown"
        },
        {
         "aircraft": {
          "model": "Airbus A319"
         },
         "airline": {
          "name": "easyJet"
         },
         "arrival": {
          "quality": [
           "Basic"
          ],
          "scheduledTimeLocal": "2021-11-25 18:10+01:00",
          "scheduledTimeUtc": "2021-11-25 17:10Z",
          "terminal": "1"
         },
         "codeshareStatus": "Unknown",
         "departure": {
          "airport": {
           "name": "Amsterdam"
          },
          "quality": []
         },
         "isCargo": false,
         "number": "U2 5106",
         "status": "Unknown"
        },
        {
         "aircraft": {
          "model": "Airbus A320 NEO"
         },
         "airline": {
          "name": "Lufthansa"
         },
         "arrival": {
          "quality": [
           "Basic"
          ],
          "scheduledTimeLocal": "2021-11-25 18:10+01:00",
          "scheduledTimeUtc": "2021-11-25 17:10Z",
          "terminal": "1"
         },
         "codeshareStatus": "IsCodeshared",
         "departure": {
          "airport": {
           "iata": "MUC",
           "icao": "EDDM",
           "name": "Munich"
          },
          "quality": [
           "Basic"
          ],
          "scheduledTimeLocal": "2021-11-25 17:00+01:00",
          "scheduledTimeUtc": "2021-11-25 16:00Z",
          "terminal": "2"
         },
         "isCargo": false,
         "number": "LH 1948",
         "status": "Unknown"
        },
        {
         "aircraft": {
          "model": "Airbus A320"
         },
         "airline": {
          "name": "Eurowings"
         },
         "arrival": {
          "quality": [
           "Basic"
          ],
          "scheduledTimeLocal": "2021-11-25 18:20+01:00",
          "scheduledTimeUtc": "2021-11-25 17:20Z",
          "terminal": "1"
         },
         "codeshareStatus": "Unknown",
         "departure": {
          "actualTimeLocal": "2021-11-25 12:15+00:00",
          "actualTimeUtc": "2021-11-25 12:15Z",
          "airport": {
           "iata": "FUE",
           "icao": "GCFV",
           "name": "Fuerteventura Island"
          },
          "quality": [
           "Basic",
           "Live"
          ],
          "scheduledTimeLocal": "2021-11-25 12:15+00:00",
          "scheduledTimeUtc": "2021-11-25 12:15Z"
         },
         "isCargo": false,
         "number": "EW 8181",
         "status": "Unknown"
        },
        {
         "aircraft": {
          "model": "Airbus A320"
         },
         "airline": {
          "name": "Finnair"
         },
         "arrival": {
          "quality": [
           "Basic"
          ],
          "scheduledTimeLocal": "2021-11-25 18:25+01:00",
          "scheduledTimeUtc": "2021-11-25 17:25Z",
          "terminal": "1"
         },
         "codeshareStatus": "Unknown",
         "departure": {
          "actualTimeLocal": "2021-11-25 17:25+02:00",
          "actualTimeUtc": "2021-11-25 15:25Z",
          "airport": {
           "iata": "HEL",
           "icao": "EFHK",
           "name": "Helsinki"
          },
          "checkInDesk": "507-517",
          "quality": [
           "Basic",
           "Live"
          ],
          "scheduledTimeLocal": "2021-11-25 17:25+02:00",
          "scheduledTimeUtc": "2021-11-25 15:25Z",
          "terminal": "T2-500"
         },
         "isCargo": false,
         "number": "AY 1435",
         "status": "Unknown"
        },
        {
         "aircraft": {
          "model": "Boeing 737-800"
         },
         "airline": {
          "name": "Ryanair"
         },
         "arrival": {
          "quality": [
           "Basic"
          ],
          "scheduledTimeLocal": "2021-11-25 18:40+01:00",
          "scheduledTimeUtc": "2021-11-25 17:40Z"
         },
         "codeshareStatus": "Unknown",
         "departure": {
          "actualTimeLocal": "2021-11-25 15:20+00:00",
          "actualTimeUtc": "2021-11-25 15:20Z",
          "airport": {
           "iata": "DUB",
           "icao": "EIDW",
           "name": "Dublin"
          },
          "checkInDesk": "1204-1319",
          "gate": "119",
          "quality": [
           "Basic",
           "Live"
          ],
          "scheduledTimeLocal": "2021-11-25 15:20+00:00",
          "scheduledTimeUtc": "2021-11-25 15:20Z",
          "terminal": "T1"
         },
         "isCargo": false,
         "number": "FR 8558",
         "status": "Unknown"
        },
        {
         "aircraft": {
          "model": "Airbus A320"
         },
         "airline": {
          "name": "Austrian"
         },
         "arrival": {
          "quality": [
           "Basic"
          ],
          "scheduledTimeLocal": "2021-11-25 18:40+01:00",
          "scheduledTimeUtc": "2021-11-25 17:40Z",
          "terminal": "1"
         },
         "codeshareStatus": "Unknown",
         "departure": {
          "airport": {
           "iata": "VIE",
           "icao": "LOWW",
           "name": "Vienna"
          },
          "quality": [
           "Basic"
          ],
          "scheduledTimeLocal": "2021-11-25 17:25+01:00",
          "scheduledTimeUtc": "2021-11-25 16:25Z",
          "terminal": "3"
         },
         "isCargo": false,
         "number": "OS 235",
         "status": "Unknown"
        },
        {
         "aircraft": {
          "model": "Airbus A320"
         },
         "airline": {
          "name": "Wizz Air"
         },
         "arrival": {
          "quality": [
           "Basic"
          ],
          "scheduledTimeLocal": "2021-11-25 18:45+01:00",
          "scheduledTimeUtc": "2021-11-25 17:45Z",
          "terminal": "0"
         },
         "codeshareStatus": "Unknown",
         "departure": {
          "airport": {
           "iata": "IEV",
           "icao": "UKKK",
           "name": "Kiev"
          },
          "quality": [
           "Basic"
          ],
          "scheduledTimeLocal": "2021-11-25 17:30+02:00",
          "scheduledTimeUtc": "2021-11-25 15:30Z",
          "terminal": "A"
         },
         "isCargo": false,
         "number": "W6 6113",
         "status": "Unknown"
        },
        {
         "aircraft": {
          "model": "Airbus A319"
         },
         "airline": {
          "name": "British Airways"
         },
         "arrival": {
          "quality": [
           "Basic"
          ],
          "scheduledTimeLocal": "2021-11-25 18:50+01:00",
          "scheduledTimeUtc": "2021-11-25 17:50Z",
          "terminal": "1"
         },
         "codeshareStatus": "IsCodeshared",
         "departure": {
          "actualTimeLocal": "2021-11-25 15:55+00:00",
          "actualTimeUtc": "2021-11-25 15:55Z",
          "airport": {
           "iata": "LHR",
           "icao": "EGLL",
           "name": "London"
          },
          "checkInDesk": "G",
          "quality": [
           "Basic",
           "Live"
          ],
          "scheduledTimeLocal": "2021-11-25 15:55+00:00",
          "scheduledTimeUtc": "2021-11-25 15:55Z",
          "terminal": "5"
         },
         "isCargo": false,
         "number": "BA 986",
         "status": "Unknown"
        },
        {
         "aircraft": {
          "model": "Airbus A220-300"
         },
         "airline": {
          "name": "SWISS"
         },
         "arrival": {
          "quality": [
           "Basic"
          ],
          "scheduledTimeLocal": "2021-11-25 18:55+01:00",
          "scheduledTimeUtc": "2021-11-25 17:55Z",
          "terminal": "1"
         },
         "codeshareStatus": "Unknown",
         "departure": {
          "actualTimeLocal": "2021-11-25 17:30+01:00",
          "actualTimeUtc": "2021-11-25 16:30Z",
          "airport": {
           "iata": "ZRH",
           "icao": "LSZH",
           "name": "Zurich"
          },
          "checkInDesk": "1",
          "quality": [
           "Basic",
           "Live"
          ],
          "scheduledTimeLocal": "2021-11-25 17:30+01:00",
          "scheduledTimeUtc": "2021-11-25 16:30Z"
         },
         "isCargo": false,
         "number": "LX 970",
         "status": "Unknown"
        },
        {
         "aircraft": {
          "model": "Airbus A320 NEO"
         },
         "airline": {
          "name": "Lufthansa"
         },
         "arrival": {
          "quality": [
           "Basic"
          ],
          "scheduledTimeLocal": "2021-11-25 18:55+01:00",
          "scheduledTimeUtc": "2021-11-25 17:55Z",
          "terminal": "1"
         },
         "codeshareStatus": "IsCodeshared",
         "departure": {
          "actualTimeLocal": "2021-11-25 17:45+01:00",
          "actualTimeUtc": "2021-11-25 16:45Z",
          "airport": {
           "iata": "FRA",
           "icao": "EDDF",
           "name": "Frankfurt-am-Main"
          },
          "quality": [
           "Basic",
           "Live"
          ],
          "scheduledTimeLocal": "2021-11-25 17:45+01:00",
          "scheduledTimeUtc": "2021-11-25 16:45Z",
          "terminal": "1"
         },
         "isCargo": false,
         "number": "LH 194",
         "status": "Unknown"
        },
        {
         "aircraft": {
          "model": "Airbus A220-300"
         },
         "airline": {
          "name": "Air Baltic"
         },
         "arrival": {
          "quality": [
           "Basic"
          ],
          "scheduledTimeLocal": "2021-11-25 19:00+01:00",
          "scheduledTimeUtc": "2021-11-25 18:00Z",
          "terminal": "1"
         },
         "codeshareStatus": "Unknown",
         "departure": {
          "actualTimeLocal": "2021-11-25 18:20+02:00",
          "actualTimeUtc": "2021-11-25 16:20Z",
          "airport": {
           "iata": "RIX",
           "icao": "EVRA",
           "name": "Riga"
          },
          "quality": [
           "Basic",
           "Live"
          ],
          "scheduledTimeLocal": "2021-11-25 18:20+02:00",
          "scheduledTimeUtc": "2021-11-25 16:20Z"
         },
         "isCargo": false,
         "number": "BT 213",
         "status": "Unknown"
        },
        {
         "aircraft": {
          "model": "Airbus A320"
         },
         "airline": {
          "name": "easyJet"
         },
         "arrival": {
          "quality": [
           "Basic"
          ],
          "scheduledTimeLocal": "2021-11-25 19:00+01:00",
          "scheduledTimeUtc": "2021-11-25 18:00Z",
          "terminal": "1"
         },
         "codeshareStatus": "Unknown",
         "departure": {
          "airport": {
           "iata": "FUE",
           "icao": "GCFV",
           "name": "Fuerteventura Island"
          },
          "quality": [
           "Basic"
          ],
          "scheduledTimeLocal": "2021-11-25 13:00+00:00",
          "scheduledTimeUtc": "2021-11-25 13:00Z"
         },
         "isCargo": false,
         "number": "U2 5924",
         "status": "Unknown"
        },
        {
         "aircraft": {
          "model": "Airbus A320"
         },
         "airline": {
          "name": "Iberia"
         },
         "arrival": {
          "quality": [
           "Basic"
          ],
          "scheduledTimeLocal": "2021-11-25 19:05+01:00",
          "scheduledTimeUtc": "2021-11-25 18:05Z",
          "terminal": "1"
         },
         "codeshareStatus": "Unknown",
         "departure": {
          "actualTimeLocal": "2021-11-25 16:00+01:00",
          "actualTimeUtc": "2021-11-25 15:00Z",
          "airport": {
           "iata": "MAD",
           "icao": "LEMD",
           "name": "Madrid"
          },
          "quality": [
           "Basic",
           "Live"
          ],
          "scheduledTimeLocal": "2021-11-25 16:00+01:00",
          "scheduledTimeUtc": "2021-11-25 15:00Z",
          "terminal": "4"
         },
         "isCargo": false,
         "number": "IB 3672",
         "status": "Unknown"
        },
        {
         "aircraft": {
          "model": "ATR 72"
         },
         "airline": {
          "name": "Danish Air"
         },
         "arrival": {
          "quality": [
           "Basic"
          ],
          "scheduledTimeLocal": "2021-11-25 19:10+01:00",
          "scheduledTimeUtc": "2021-11-25 18:10Z",
          "terminal": "0"
         },
         "codeshareStatus": "Unknown",
         "departure": {
          "airport": {
           "iata": "SCN",
           "icao": "EDDR",
           "name": "Saarbrücken"
          },
          "quality": [
           "Basic"
          ],
          "scheduledTimeLocal": "2021-11-25 17:40+01:00",
          "scheduledTimeUtc": "2021-11-25 16:40Z"
         },
         "isCargo": false,
         "number": "DX 125",
         "status": "Unknown"
        },
        {
         "aircraft": {
          "model": "Boeing 737-800"
         },
         "airline": {
          "name": "Ryanair"
         },
         "arrival": {
          "quality": [
           "Basic"
          ],
          "scheduledTimeLocal": "2021-11-25 19:10+01:00",
          "scheduledTimeUtc": "2021-11-25 18:10Z"
         },
         "codeshareStatus": "Unknown",
         "departure": {
          "airport": {
           "iata": "TLL",
           "icao": "EETN",
           "name": "Tallinn"
          },
          "quality": [
           "Basic"
          ],
          "scheduledTimeLocal": "2021-11-25 18:10+02:00",
          "scheduledTimeUtc": "2021-11-25 16:10Z"
         },
         "isCargo": false,
         "number": "FR 2733",
         "status": "Unknown"
        },
        {
         "aircraft": {
          "model": "Airbus A320"
         },
         "airline": {
          "name": "Lufthansa"
         },
         "arrival": {
          "quality": [
           "Basic"
          ],
          "scheduledTimeLocal": "2021-11-25 19:15+01:00",
          "scheduledTimeUtc": "2021-11-25 18:15Z",
          "terminal": "1"
         },
         "codeshareStatus": "Unknown",
         "departure": {
          "airport": {
           "iata": "MUC",
           "icao": "EDDM",
           "name": "Munich"
          },
          "quality": [
           "Basic"
          ],
          "scheduledTimeLocal": "2021-11-25 18:05+01:00",
          "scheduledTimeUtc": "2021-11-25 17:05Z",
          "terminal": "2"
         },
         "isCargo": false,
         "number": "LH 2330",
         "status": "Unknown"
        },
        {
         "aircraft": {
          "model": "Embraer 190"
         },
         "airline": {
          "name": "British Airways"
         },
         "arrival": {
          "quality": [
           "Basic"
          ],
          "scheduledTimeLocal": "2021-11-25 19:30+01:00",
          "scheduledTimeUtc": "2021-11-25 18:30Z",
          "terminal": "1"
         },
         "codeshareStatus": "IsCodeshared",
         "departure": {
          "airport": {
           "iata": "LCY",
           "icao": "EGLC",
           "name": "London"
          },
          "quality": [
           "Basic"
          ],
          "scheduledTimeLocal": "2021-11-25 16:45+00:00",
          "scheduledTimeUtc": "2021-11-25 16:45Z"
         },
         "isCargo": false,
         "number": "BA 8743",
         "status": "Unknown"
        },
        {
         "aircraft": {
          "model": "Airbus A318"
         },
         "airline": {
          "name": "Air France"
         },
         "arrival": {
          "quality": [
           "Basic"
          ],
          "scheduledTimeLocal": "2021-11-25 19:35+01:00",
          "scheduledTimeUtc": "2021-11-25 18:35Z",
          "terminal": "1"
         },
         "codeshareStatus": "Unknown",
         "departure": {
          "airport": {
           "iata": "CDG",
           "icao": "LFPG",
           "name": "Paris"
          },
          "quality": [
           "Basic"
          ],
          "scheduledTimeLocal": "2021-11-25 17:50+01:00",
          "scheduledTimeUtc": "2021-11-25 16:50Z",
          "terminal": "2F"
         },
         "isCargo": false,
         "number": "AF 1534",
         "status": "Unknown"
        },
        {
         "aircraft": {
          "model": "Boeing 737-800"
         },
         "airline": {
          "name": "Norwegian Air Shuttle"
         },
         "arrival": {
          "quality": [
           "Basic"
          ],
          "scheduledTimeLocal": "2021-11-25 19:35+01:00",
          "scheduledTimeUtc": "2021-11-25 18:35Z",
          "terminal": "1"
         },
         "codeshareStatus": "Unknown",
         "departure": {
          "airport": {
           "iata": "OSL",
           "icao": "ENGM",
           "name": "Oslo"
          },
          "checkInDesk": "23",
          "quality": [
           "Basic"
          ],
          "scheduledTimeLocal": "2021-11-25 18:00+01:00",
          "scheduledTimeUtc": "2021-11-25 17:00Z"
         },
         "isCargo": false,
         "number": "DY 1108",
         "status": "Unknown"
        },
        {
         "aircraft": {
          "model": "Boeing 737-800"
         },
         "airline": {
          "name": "Ryanair"
         },
         "arrival": {
          "quality": [
           "Basic"
          ],
          "scheduledTimeLocal": "2021-11-25 19:40+01:00",
          "scheduledTimeUtc": "2021-11-25 18:40Z"
         },
         "codeshareStatus": "Unknown",
         "departure": {
          "actualTimeLocal": "2021-11-25 16:05+01:00",
          "actualTimeUtc": "2021-11-25 15:05Z",
          "airport": {
           "iata": "AGP",
           "icao": "LEMG",
           "name": "Málaga"
          },
          "quality": [
           "Basic",
           "Live"
          ],
          "scheduledTimeLocal": "2021-11-25 16:05+01:00",
          "scheduledTimeUtc": "2021-11-25 15:05Z"
         },
         "isCargo": false,
         "number": "FR 2591",
         "status": "Unknown"
        },
        {
         "aircraft": {
          "model": "Airbus A320 NEO"
         },
         "airline": {
          "name": "SWISS"
         },
         "arrival": {
          "quality": [
           "Basic"
          ],
          "scheduledTimeLocal": "2021-11-25 19:45+01:00",
          "scheduledTimeUtc": "2021-11-25 18:45Z",
          "terminal": "1"
         },
         "codeshareStatus": "Unknown",
         "departure": {
          "actualTimeLocal": "2021-11-25 18:20+01:00",
          "actualTimeUtc": "2021-11-25 17:20Z",
          "airport": {
           "iata": "ZRH",
           "icao": "LSZH",
           "name": "Zurich"
          },
          "checkInDesk": "1",
          "quality": [
           "Basic",
           "Live"
          ],
          "scheduledTimeLocal": "2021-11-25 18:20+01:00",
          "scheduledTimeUtc": "2021-11-25 17:20Z"
         },
         "isCargo": false,
         "number": "LX 978",
         "status": "Unknown"
        },
        {
         "aircraft": {
          "model": "Boeing 737-800"
         },
         "airline": {
          "name": "El Al"
         },
         "arrival": {
          "quality": [
           "Basic"
          ],
          "scheduledTimeLocal": "2021-11-25 19:50+01:00",
          "scheduledTimeUtc": "2021-11-25 18:50Z",
          "terminal": "1"
         },
         "codeshareStatus": "Unknown",
         "departure": {
          "airport": {
           "iata": "TLV",
           "icao": "LLBG",
           "name": "Tel Aviv Yafo"
          },
          "quality": [
           "Basic"
          ],
          "scheduledTimeLocal": "2021-11-25 16:20+02:00",
          "scheduledTimeUtc": "2021-11-25 14:20Z",
          "terminal": "3"
         },
         "isCargo": false,
         "number": "LY 2373",
         "status": "Unknown"
        },
        {
         "aircraft": {
          "model": "Boeing 737-800"
         },
         "airline": {
          "name": "Ryanair"
         },
         "arrival": {
          "quality": [
           "Basic"
          ],
          "scheduledTimeLocal": "2021-11-25 19:55+01:00",
          "scheduledTimeUtc": "2021-11-25 18:55Z"
         },
         "codeshareStatus": "Unknown",
         "departure": {
          "airport": {
           "iata": "CIA",
           "icao": "LIRA",
           "name": "Roma"
          },
          "quality": [
           "Basic"
          ],
          "scheduledTimeLocal": "2021-11-25 17:45+01:00",
          "scheduledTimeUtc": "2021-11-25 16:45Z"
         },
         "isCargo": false,
         "number": "FR 141",
         "status": "Unknown"
        },
        {
         "aircraft": {
          "model": "Airbus A320"
         },
         "airline": {
          "name": "Lufthansa"
         },
         "arrival": {
          "quality": [
           "Basic"
          ],
          "scheduledTimeLocal": "2021-11-25 19:55+01:00",
          "scheduledTimeUtc": "2021-11-25 18:55Z",
          "terminal": "1"
         },
         "codeshareStatus": "IsCodeshared",
         "departure": {
          "actualTimeLocal": "2021-11-25 18:45+01:00",
          "actualTimeUtc": "2021-11-25 17:45Z",
          "airport": {
           "iata": "FRA",
           "icao": "EDDF",
           "name": "Frankfurt-am-Main"
          },
          "quality": [
           "Basic",
           "Live"
          ],
          "scheduledTimeLocal": "2021-11-25 18:45+01:00",
          "scheduledTimeUtc": "2021-11-25 17:45Z",
          "terminal": "1"
         },
         "isCargo": false,
         "number": "LH 190",
         "status": "Unknown"
        },
        {
         "aircraft": {
          "model": "Airbus A320"
         },
         "airline": {
          "name": "Ghodawat Enterprises"
         },
         "arrival": {
          "quality": [
           "Basic"
          ],
          "scheduledTimeLocal": "2021-11-25 20:00+01:00",
          "scheduledTimeUtc": "2021-11-25 19:00Z",
          "terminal": "1"
         },
         "codeshareStatus": "Unknown",
         "departure": {
          "airport": {
           "iata": "KEF",
           "icao": "BIKF",
           "name": "Reykjavik"
          },
          "quality": [
           "Basic"
          ],
          "scheduledTimeLocal": "2021-11-25 15:20+00:00",
          "scheduledTimeUtc": "2021-11-25 15:20Z"
         },
         "isCargo": false,
         "number": "OG 704",
         "status": "Unknown"
        }
       ]
      },
      "text/plain": [
       "<IPython.core.display.JSON object>"
      ]
     },
     "execution_count": 192,
     "metadata": {
      "application/json": {
       "expanded": false,
       "root": "root"
      }
     },
     "output_type": "execute_result"
    }
   ],
   "source": [
    "import pandas as pd\n",
    "from IPython.display import JSON\n",
    "import requests\n",
    "\n",
    "url = \"https://aerodatabox.p.rapidapi.com/flights/airports/icao/EDDB/2021-11-25T08:00/2021-11-25T20:00\"\n",
    "\n",
    "querystring = {\"withLeg\":\"true\",\"direction\":\"Arrival\",\"withCodeshared\":\"true\",\"withLocation\":\"true\"}\n",
    "\n",
    "headers = {\n",
    "    'x-rapidapi-host': \"aerodatabox.p.rapidapi.com\",\n",
    "    'x-rapidapi-key': \"32c271d717msh1815911e0c69003p139840jsne3c69aad4913\"\n",
    "    }\n",
    "\n",
    "response = requests.request(\"GET\", url, headers=headers, params=querystring)\n",
    "\n",
    "JSON(response.json())"
   ]
  },
  {
   "cell_type": "code",
   "execution_count": 193,
   "id": "abe31233-719d-43e6-91cc-777cb5bcfc8c",
   "metadata": {},
   "outputs": [],
   "source": [
    "arrival_api = response.json()"
   ]
  },
  {
   "cell_type": "code",
   "execution_count": 194,
   "id": "b4aa56b6-5480-4ce3-8f2b-9675af182387",
   "metadata": {},
   "outputs": [
    {
     "data": {
      "text/html": [
       "<div>\n",
       "<style scoped>\n",
       "    .dataframe tbody tr th:only-of-type {\n",
       "        vertical-align: middle;\n",
       "    }\n",
       "\n",
       "    .dataframe tbody tr th {\n",
       "        vertical-align: top;\n",
       "    }\n",
       "\n",
       "    .dataframe thead th {\n",
       "        text-align: right;\n",
       "    }\n",
       "</style>\n",
       "<table border=\"1\" class=\"dataframe\">\n",
       "  <thead>\n",
       "    <tr style=\"text-align: right;\">\n",
       "      <th></th>\n",
       "      <th>departure</th>\n",
       "      <th>arrival</th>\n",
       "      <th>number</th>\n",
       "      <th>status</th>\n",
       "      <th>codeshareStatus</th>\n",
       "      <th>isCargo</th>\n",
       "      <th>aircraft</th>\n",
       "      <th>airline</th>\n",
       "    </tr>\n",
       "  </thead>\n",
       "  <tbody>\n",
       "    <tr>\n",
       "      <th>0</th>\n",
       "      <td>{'airport': {'icao': 'EDDR', 'iata': 'SCN', 'n...</td>\n",
       "      <td>{'scheduledTimeLocal': '2021-11-25 08:10+01:00...</td>\n",
       "      <td>DX 121</td>\n",
       "      <td>Unknown</td>\n",
       "      <td>Unknown</td>\n",
       "      <td>False</td>\n",
       "      <td>{'model': 'ATR 72'}</td>\n",
       "      <td>{'name': 'Danish Air'}</td>\n",
       "    </tr>\n",
       "  </tbody>\n",
       "</table>\n",
       "</div>"
      ],
      "text/plain": [
       "                                           departure  \\\n",
       "0  {'airport': {'icao': 'EDDR', 'iata': 'SCN', 'n...   \n",
       "\n",
       "                                             arrival  number   status  \\\n",
       "0  {'scheduledTimeLocal': '2021-11-25 08:10+01:00...  DX 121  Unknown   \n",
       "\n",
       "  codeshareStatus  isCargo             aircraft                 airline  \n",
       "0         Unknown    False  {'model': 'ATR 72'}  {'name': 'Danish Air'}  "
      ]
     },
     "execution_count": 194,
     "metadata": {},
     "output_type": "execute_result"
    }
   ],
   "source": [
    "pd.DataFrame(arrival_api['arrivals'])[:1]"
   ]
  },
  {
   "cell_type": "code",
   "execution_count": 195,
   "id": "07a324e1-3583-4537-a1c3-a40b92c10a22",
   "metadata": {},
   "outputs": [
    {
     "data": {
      "text/plain": [
       "131"
      ]
     },
     "execution_count": 195,
     "metadata": {},
     "output_type": "execute_result"
    }
   ],
   "source": [
    "len(arrival_api['arrivals'])"
   ]
  },
  {
   "cell_type": "code",
   "execution_count": 210,
   "id": "0f53f28c-d80f-4884-9905-096a61341be7",
   "metadata": {},
   "outputs": [
    {
     "name": "stdout",
     "output_type": "stream",
     "text": [
      "Scheduled arrival time for flight to Berlin,DE (EDDB) for 2021-11-25\n",
      "\n"
     ]
    },
    {
     "data": {
      "text/html": [
       "<div>\n",
       "<style scoped>\n",
       "    .dataframe tbody tr th:only-of-type {\n",
       "        vertical-align: middle;\n",
       "    }\n",
       "\n",
       "    .dataframe tbody tr th {\n",
       "        vertical-align: top;\n",
       "    }\n",
       "\n",
       "    .dataframe thead th {\n",
       "        text-align: right;\n",
       "    }\n",
       "</style>\n",
       "<table border=\"1\" class=\"dataframe\">\n",
       "  <thead>\n",
       "    <tr style=\"text-align: right;\">\n",
       "      <th></th>\n",
       "      <th>from</th>\n",
       "      <th>flight_no</th>\n",
       "      <th>airline</th>\n",
       "      <th>scheduled_time</th>\n",
       "    </tr>\n",
       "  </thead>\n",
       "  <tbody>\n",
       "    <tr>\n",
       "      <th>0</th>\n",
       "      <td>Saarbrücken</td>\n",
       "      <td>DX 121</td>\n",
       "      <td>Danish Air</td>\n",
       "      <td>2021-11-25 08:10+01:00</td>\n",
       "    </tr>\n",
       "    <tr>\n",
       "      <th>1</th>\n",
       "      <td>Munich</td>\n",
       "      <td>LH 1928</td>\n",
       "      <td>Lufthansa</td>\n",
       "      <td>2021-11-25 08:10+01:00</td>\n",
       "    </tr>\n",
       "    <tr>\n",
       "      <th>2</th>\n",
       "      <td>Luxembourg</td>\n",
       "      <td>LG 9471</td>\n",
       "      <td>Luxair</td>\n",
       "      <td>2021-11-25 08:15+01:00</td>\n",
       "    </tr>\n",
       "    <tr>\n",
       "      <th>3</th>\n",
       "      <td>Pisa</td>\n",
       "      <td>FR 9955</td>\n",
       "      <td>Ryanair</td>\n",
       "      <td>2021-11-25 08:45+01:00</td>\n",
       "    </tr>\n",
       "    <tr>\n",
       "      <th>4</th>\n",
       "      <td>Zurich</td>\n",
       "      <td>LX 974</td>\n",
       "      <td>SWISS</td>\n",
       "      <td>2021-11-25 08:45+01:00</td>\n",
       "    </tr>\n",
       "    <tr>\n",
       "      <th>5</th>\n",
       "      <td>Paris</td>\n",
       "      <td>AF 7354</td>\n",
       "      <td>Air France</td>\n",
       "      <td>2021-11-25 08:55+01:00</td>\n",
       "    </tr>\n",
       "    <tr>\n",
       "      <th>6</th>\n",
       "      <td>Vienna</td>\n",
       "      <td>OS 223</td>\n",
       "      <td>Austrian</td>\n",
       "      <td>2021-11-25 08:55+01:00</td>\n",
       "    </tr>\n",
       "    <tr>\n",
       "      <th>7</th>\n",
       "      <td>Frankfurt-am-Main</td>\n",
       "      <td>LH 174</td>\n",
       "      <td>Lufthansa</td>\n",
       "      <td>2021-11-25 08:55+01:00</td>\n",
       "    </tr>\n",
       "    <tr>\n",
       "      <th>8</th>\n",
       "      <td>Belgrade</td>\n",
       "      <td>JU 350</td>\n",
       "      <td>Air Serbia</td>\n",
       "      <td>2021-11-25 09:00+01:00</td>\n",
       "    </tr>\n",
       "    <tr>\n",
       "      <th>9</th>\n",
       "      <td>Oslo</td>\n",
       "      <td>DY 1102</td>\n",
       "      <td>Norwegian Air Shuttle</td>\n",
       "      <td>2021-11-25 09:10+01:00</td>\n",
       "    </tr>\n",
       "  </tbody>\n",
       "</table>\n",
       "</div>"
      ],
      "text/plain": [
       "                from flight_no                airline          scheduled_time\n",
       "0        Saarbrücken    DX 121             Danish Air  2021-11-25 08:10+01:00\n",
       "1             Munich   LH 1928              Lufthansa  2021-11-25 08:10+01:00\n",
       "2         Luxembourg   LG 9471                 Luxair  2021-11-25 08:15+01:00\n",
       "3               Pisa   FR 9955                Ryanair  2021-11-25 08:45+01:00\n",
       "4             Zurich    LX 974                  SWISS  2021-11-25 08:45+01:00\n",
       "5              Paris   AF 7354             Air France  2021-11-25 08:55+01:00\n",
       "6             Vienna    OS 223               Austrian  2021-11-25 08:55+01:00\n",
       "7  Frankfurt-am-Main    LH 174              Lufthansa  2021-11-25 08:55+01:00\n",
       "8           Belgrade    JU 350             Air Serbia  2021-11-25 09:00+01:00\n",
       "9               Oslo   DY 1102  Norwegian Air Shuttle  2021-11-25 09:10+01:00"
      ]
     },
     "execution_count": 210,
     "metadata": {},
     "output_type": "execute_result"
    }
   ],
   "source": [
    "col_1 = []\n",
    "for i in range(len(arrival_api['arrivals'])):\n",
    "    col_1.append(arrival_api['arrivals'][i]['departure']['airport'][('name')])\n",
    "    \n",
    "col_2 = []\n",
    "for i in range(len(arrival_api['arrivals'])):\n",
    "    col_2.append(arrival_api['arrivals'][i]['number'])\n",
    "    \n",
    "col_3 = []\n",
    "for i in range(len(arrival_api['arrivals'])):\n",
    "    col_3.append(arrival_api['arrivals'][i]['airline']['name'])\n",
    "    \n",
    "col_4 = []\n",
    "for i in range(len(arrival_api['arrivals'])):\n",
    "    col_4.append(arrival_api['arrivals'][i]['arrival']['scheduledTimeLocal'])\n",
    "\n",
    "df= pd.DataFrame({\"from\":col_1, \n",
    "                  \"flight_no\":col_2, \n",
    "                  \"airline\":col_3, \n",
    "                  \"scheduled_time\":col_4\n",
    "                 })\n",
    "print(\"Scheduled arrival time for flight to Berlin,DE (EDDB) for 2021-11-25\\n\")\n",
    "df.head(10)"
   ]
  },
  {
   "cell_type": "code",
   "execution_count": null,
   "id": "024c7229-ab66-40bc-a4ec-067063358620",
   "metadata": {},
   "outputs": [],
   "source": []
  }
 ],
 "metadata": {
  "kernelspec": {
   "display_name": "Python 3",
   "language": "python",
   "name": "python3"
  },
  "language_info": {
   "codemirror_mode": {
    "name": "ipython",
    "version": 3
   },
   "file_extension": ".py",
   "mimetype": "text/x-python",
   "name": "python",
   "nbconvert_exporter": "python",
   "pygments_lexer": "ipython3",
   "version": "3.8.8"
  }
 },
 "nbformat": 4,
 "nbformat_minor": 5
}
